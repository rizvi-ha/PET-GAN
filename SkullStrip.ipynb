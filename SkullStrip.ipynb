{
 "cells": [
  {
   "cell_type": "code",
   "execution_count": 13,
   "id": "2d4e0c98-5e5b-4b89-9d65-25c3a7b1b4ca",
   "metadata": {},
   "outputs": [],
   "source": [
    "import os\n",
    "import subprocess\n",
    "import pandas as pd\n",
    "from tqdm import tqdm\n",
    "import time"
   ]
  },
  {
   "cell_type": "code",
   "execution_count": 14,
   "id": "4a154610-e794-4e80-b5b8-e287eb2a7e3a",
   "metadata": {},
   "outputs": [],
   "source": [
    "dataset_all = pd.read_csv('pathlist.csv', usecols=[1,2,3,4,5])\n",
    "dataset_all.head()\n",
    "t1 = dataset_all['t1']\n",
    "t1c = dataset_all['t1c']\n",
    "t2 = dataset_all['t2']\n",
    "flair = dataset_all['flair']\n",
    "pet = dataset_all['pet']"
   ]
  },
  {
   "cell_type": "code",
   "execution_count": 15,
   "id": "223765f5-44f1-476f-b3fb-4e34bb40775e",
   "metadata": {},
   "outputs": [],
   "source": [
    "def find_parent_folder(file_path):\n",
    "    result = file_path\n",
    "    leftover = \"\"\n",
    "    while result[-1] != '/':\n",
    "        leftover = result[-1] + leftover\n",
    "        result = result[:-1]\n",
    "    return result, leftover"
   ]
  },
  {
   "cell_type": "code",
   "execution_count": 16,
   "id": "9e3f2eb6-8ca5-46b5-ab26-7eef28186959",
   "metadata": {},
   "outputs": [],
   "source": [
    "def skull_strip_batch(folder_path):\n",
    "\n",
    "    if os.path.isdir(folder_path + \"_bet/\"):\n",
    "        print(\"Skull stripping already done.\")\n",
    "        return\n",
    "    \n",
    "    bet_command = [\"hd-bet -i \" + folder_path + \" -mode fast -tta 0 -s 0\"]\n",
    "    subprocess.run(bet_command, shell=True, stdout=open(os.devnull, 'w'), stderr=subprocess.STDOUT)\n",
    "    return"
   ]
  },
  {
   "cell_type": "code",
   "execution_count": 17,
   "id": "4bd9413e-1ca6-4076-87f8-8f80106b66d2",
   "metadata": {},
   "outputs": [],
   "source": [
    "def process_patient(t1_path, t1c_path, t2_path, flair_path, pet_path, patientno):\n",
    "\n",
    "    t1_output = t1_path.replace('.nii.gz', '.copy.nii.gz')\n",
    "    parent_folder0, filename0 = find_parent_folder(t1_output)\n",
    "    t1_target = parent_folder0 + \"reg/\" + filename0\n",
    "    \n",
    "    t1c_output = t1c_path.replace('.nii.gz', '.copy.nii.gz')\n",
    "    parent_folder1, filename1 = find_parent_folder(t1c_output)\n",
    "    t1c_target = parent_folder1 + \"reg/\" + filename1\n",
    "\n",
    "    t2_output = t2_path.replace('.nii.gz', '.copy.nii.gz')\n",
    "    parent_folder2, filename2 = find_parent_folder(t2_output)\n",
    "    t2_target = parent_folder2 + \"reg/\" + filename2\n",
    "\n",
    "    flair_output = flair_path.replace('.nii.gz', '.copy.nii.gz')\n",
    "    parent_folder3, filename3 = find_parent_folder(flair_output)\n",
    "    flair_target = parent_folder3 + \"reg/\" + filename3\n",
    "\n",
    "    pet_output = pet_path.replace('.nii.gz', '.copy.nii.gz')\n",
    "    parent_folder4, filename4 = find_parent_folder(pet_output)\n",
    "    pet_target = parent_folder3 + \"reg/\" + filename4\n",
    "    \n",
    "    try:\n",
    "        assert(parent_folder1 == parent_folder2)\n",
    "        assert(parent_folder2 == parent_folder0)\n",
    "        assert(parent_folder2 == parent_folder3)\n",
    "    except:\n",
    "        return\n",
    "\n",
    "    if not os.path.isdir(parent_folder1 + \"reg/\"):\n",
    "        mkdir_command = [\"mkdir \" + parent_folder1 + \"reg/\"]\n",
    "        subprocess.run(mkdir_command, shell=True)\n",
    "\n",
    "    cp_command0 = [\"cp \" + t1_path + \" \" + t1_target]\n",
    "    cp_command1 = [\"cp \" + t1c_path + \" \" + t1c_target]\n",
    "    cp_command2 = [\"cp \" + t2_path + \" \" + t2_target]\n",
    "    cp_command3 = [\"cp \" + flair_path + \" \" + flair_target]\n",
    "    cp_command4 = [\"cp \" + pet_path + \" \" + pet_target]\n",
    "\n",
    "    subprocess.run(cp_command0, shell=True)\n",
    "    subprocess.run(cp_command1, shell=True)\n",
    "    subprocess.run(cp_command2, shell=True)\n",
    "    subprocess.run(cp_command3, shell=True)\n",
    "    subprocess.run(cp_command4, shell=True)\n",
    "\n",
    "    print('Skull stripping patient#: ' + str(patientno))\n",
    "    start = time.time()\n",
    "    skull_strip_batch(parent_folder1 + \"reg/\")\n",
    "    end = time.time()\n",
    "    print(\"Took \" + str(end-start) + \" seconds to skull strip\")\n",
    "    return"
   ]
  },
  {
   "cell_type": "code",
   "execution_count": 18,
   "id": "dd3fcd96-c96f-4ed9-9d17-0fab00eb6163",
   "metadata": {},
   "outputs": [
    {
     "name": "stderr",
     "output_type": "stream",
     "text": [
      "  0%|▎                                                                              | 1/262 [00:01<05:47,  1.33s/it]"
     ]
    },
    {
     "name": "stdout",
     "output_type": "stream",
     "text": [
      "Skull stripping patient#: 1\n",
      "Skull stripping already done.\n",
      "Took 0.0005130767822265625 seconds to skull strip\n"
     ]
    },
    {
     "name": "stderr",
     "output_type": "stream",
     "text": [
      "  1%|▌                                                                              | 2/262 [00:02<05:20,  1.23s/it]"
     ]
    },
    {
     "name": "stdout",
     "output_type": "stream",
     "text": [
      "Skull stripping patient#: 2\n",
      "Skull stripping already done.\n",
      "Took 0.0005204677581787109 seconds to skull strip\n"
     ]
    },
    {
     "name": "stderr",
     "output_type": "stream",
     "text": [
      "  1%|▉                                                                              | 3/262 [00:03<05:09,  1.19s/it]"
     ]
    },
    {
     "name": "stdout",
     "output_type": "stream",
     "text": [
      "Skull stripping patient#: 3\n",
      "Skull stripping already done.\n",
      "Took 0.0005812644958496094 seconds to skull strip\n"
     ]
    },
    {
     "name": "stderr",
     "output_type": "stream",
     "text": [
      "  2%|█▏                                                                             | 4/262 [00:04<05:01,  1.17s/it]"
     ]
    },
    {
     "name": "stdout",
     "output_type": "stream",
     "text": [
      "Skull stripping patient#: 4\n",
      "Skull stripping already done.\n",
      "Took 0.0005328655242919922 seconds to skull strip\n"
     ]
    },
    {
     "name": "stderr",
     "output_type": "stream",
     "text": [
      "  2%|█▌                                                                             | 5/262 [00:05<04:54,  1.15s/it]"
     ]
    },
    {
     "name": "stdout",
     "output_type": "stream",
     "text": [
      "Skull stripping patient#: 5\n",
      "Skull stripping already done.\n",
      "Took 0.0005316734313964844 seconds to skull strip\n"
     ]
    },
    {
     "name": "stderr",
     "output_type": "stream",
     "text": [
      "  2%|█▊                                                                             | 6/262 [00:07<04:55,  1.15s/it]"
     ]
    },
    {
     "name": "stdout",
     "output_type": "stream",
     "text": [
      "Skull stripping patient#: 6\n",
      "Skull stripping already done.\n",
      "Took 0.0005307197570800781 seconds to skull strip\n"
     ]
    },
    {
     "name": "stderr",
     "output_type": "stream",
     "text": [
      "  3%|██                                                                             | 7/262 [00:08<04:49,  1.14s/it]"
     ]
    },
    {
     "name": "stdout",
     "output_type": "stream",
     "text": [
      "Skull stripping patient#: 7\n",
      "Skull stripping already done.\n",
      "Took 0.0005211830139160156 seconds to skull strip\n"
     ]
    },
    {
     "name": "stderr",
     "output_type": "stream",
     "text": [
      "  3%|██▍                                                                            | 8/262 [00:09<04:48,  1.14s/it]"
     ]
    },
    {
     "name": "stdout",
     "output_type": "stream",
     "text": [
      "Skull stripping patient#: 8\n",
      "Skull stripping already done.\n",
      "Took 0.0005218982696533203 seconds to skull strip\n"
     ]
    },
    {
     "name": "stderr",
     "output_type": "stream",
     "text": [
      "  3%|██▋                                                                            | 9/262 [00:10<04:44,  1.13s/it]"
     ]
    },
    {
     "name": "stdout",
     "output_type": "stream",
     "text": [
      "Skull stripping patient#: 9\n",
      "Skull stripping already done.\n",
      "Took 0.0005240440368652344 seconds to skull strip\n"
     ]
    },
    {
     "name": "stderr",
     "output_type": "stream",
     "text": [
      "  4%|██▉                                                                           | 10/262 [00:11<04:43,  1.12s/it]"
     ]
    },
    {
     "name": "stdout",
     "output_type": "stream",
     "text": [
      "Skull stripping patient#: 10\n",
      "Skull stripping already done.\n",
      "Took 0.0005071163177490234 seconds to skull strip\n"
     ]
    },
    {
     "name": "stderr",
     "output_type": "stream",
     "text": [
      "  4%|███▎                                                                          | 11/262 [00:12<04:46,  1.14s/it]"
     ]
    },
    {
     "name": "stdout",
     "output_type": "stream",
     "text": [
      "Skull stripping patient#: 11\n",
      "Skull stripping already done.\n",
      "Took 0.0005347728729248047 seconds to skull strip\n"
     ]
    },
    {
     "name": "stderr",
     "output_type": "stream",
     "text": [
      "  5%|███▌                                                                          | 12/262 [00:13<04:43,  1.13s/it]"
     ]
    },
    {
     "name": "stdout",
     "output_type": "stream",
     "text": [
      "Skull stripping patient#: 12\n",
      "Skull stripping already done.\n",
      "Took 0.0005381107330322266 seconds to skull strip\n"
     ]
    },
    {
     "name": "stderr",
     "output_type": "stream",
     "text": [
      "  5%|███▊                                                                          | 13/262 [00:14<04:42,  1.13s/it]"
     ]
    },
    {
     "name": "stdout",
     "output_type": "stream",
     "text": [
      "Skull stripping patient#: 13\n",
      "Skull stripping already done.\n",
      "Took 0.0005390644073486328 seconds to skull strip\n"
     ]
    },
    {
     "name": "stderr",
     "output_type": "stream",
     "text": [
      "  5%|████▏                                                                         | 14/262 [00:16<04:39,  1.13s/it]"
     ]
    },
    {
     "name": "stdout",
     "output_type": "stream",
     "text": [
      "Skull stripping patient#: 14\n",
      "Skull stripping already done.\n",
      "Took 0.0005278587341308594 seconds to skull strip\n"
     ]
    },
    {
     "name": "stderr",
     "output_type": "stream",
     "text": [
      "  6%|████▍                                                                         | 15/262 [00:17<04:40,  1.13s/it]"
     ]
    },
    {
     "name": "stdout",
     "output_type": "stream",
     "text": [
      "Skull stripping patient#: 15\n",
      "Skull stripping already done.\n",
      "Took 0.0003666877746582031 seconds to skull strip\n"
     ]
    },
    {
     "name": "stderr",
     "output_type": "stream",
     "text": [
      "  6%|████▊                                                                         | 16/262 [00:18<04:33,  1.11s/it]"
     ]
    },
    {
     "name": "stdout",
     "output_type": "stream",
     "text": [
      "Skull stripping patient#: 16\n",
      "Skull stripping already done.\n",
      "Took 0.0005342960357666016 seconds to skull strip\n"
     ]
    },
    {
     "name": "stderr",
     "output_type": "stream",
     "text": [
      "  6%|█████                                                                         | 17/262 [00:19<04:35,  1.12s/it]"
     ]
    },
    {
     "name": "stdout",
     "output_type": "stream",
     "text": [
      "Skull stripping patient#: 17\n",
      "Skull stripping already done.\n",
      "Took 0.0005097389221191406 seconds to skull strip\n"
     ]
    },
    {
     "name": "stderr",
     "output_type": "stream",
     "text": [
      "  7%|█████▎                                                                        | 18/262 [00:20<04:33,  1.12s/it]"
     ]
    },
    {
     "name": "stdout",
     "output_type": "stream",
     "text": [
      "Skull stripping patient#: 18\n",
      "Skull stripping already done.\n",
      "Took 0.0005152225494384766 seconds to skull strip\n"
     ]
    },
    {
     "name": "stderr",
     "output_type": "stream",
     "text": [
      "  7%|█████▋                                                                        | 19/262 [00:21<04:31,  1.12s/it]"
     ]
    },
    {
     "name": "stdout",
     "output_type": "stream",
     "text": [
      "Skull stripping patient#: 19\n",
      "Skull stripping already done.\n",
      "Took 0.000576019287109375 seconds to skull strip\n"
     ]
    },
    {
     "name": "stderr",
     "output_type": "stream",
     "text": [
      "  8%|█████▉                                                                        | 20/262 [00:22<04:28,  1.11s/it]"
     ]
    },
    {
     "name": "stdout",
     "output_type": "stream",
     "text": [
      "Skull stripping patient#: 20\n",
      "Skull stripping already done.\n",
      "Took 0.00051116943359375 seconds to skull strip\n"
     ]
    },
    {
     "name": "stderr",
     "output_type": "stream",
     "text": [
      "  8%|██████▎                                                                       | 21/262 [00:23<04:25,  1.10s/it]"
     ]
    },
    {
     "name": "stdout",
     "output_type": "stream",
     "text": [
      "Skull stripping patient#: 21\n",
      "Skull stripping already done.\n",
      "Took 0.0005328655242919922 seconds to skull strip\n"
     ]
    },
    {
     "name": "stderr",
     "output_type": "stream",
     "text": [
      "  8%|██████▌                                                                       | 22/262 [00:24<04:23,  1.10s/it]"
     ]
    },
    {
     "name": "stdout",
     "output_type": "stream",
     "text": [
      "Skull stripping patient#: 22\n",
      "Skull stripping already done.\n",
      "Took 0.0005259513854980469 seconds to skull strip\n"
     ]
    },
    {
     "name": "stderr",
     "output_type": "stream",
     "text": [
      "  9%|██████▊                                                                       | 23/262 [00:26<04:27,  1.12s/it]"
     ]
    },
    {
     "name": "stdout",
     "output_type": "stream",
     "text": [
      "Skull stripping patient#: 23\n",
      "Skull stripping already done.\n",
      "Took 0.0005471706390380859 seconds to skull strip\n"
     ]
    },
    {
     "name": "stderr",
     "output_type": "stream",
     "text": [
      "  9%|███████▏                                                                      | 24/262 [00:27<04:26,  1.12s/it]"
     ]
    },
    {
     "name": "stdout",
     "output_type": "stream",
     "text": [
      "Skull stripping patient#: 24\n",
      "Skull stripping already done.\n",
      "Took 0.0005731582641601562 seconds to skull strip\n"
     ]
    },
    {
     "name": "stderr",
     "output_type": "stream",
     "text": [
      " 10%|███████▍                                                                      | 25/262 [00:28<04:28,  1.13s/it]"
     ]
    },
    {
     "name": "stdout",
     "output_type": "stream",
     "text": [
      "Skull stripping patient#: 25\n",
      "Skull stripping already done.\n",
      "Took 0.0005278587341308594 seconds to skull strip\n"
     ]
    },
    {
     "name": "stderr",
     "output_type": "stream",
     "text": [
      " 10%|███████▋                                                                      | 26/262 [00:28<03:51,  1.02it/s]"
     ]
    },
    {
     "name": "stdout",
     "output_type": "stream",
     "text": [
      "Skull stripping patient#: 26\n",
      "Skull stripping already done.\n",
      "Took 0.0005164146423339844 seconds to skull strip\n"
     ]
    },
    {
     "name": "stderr",
     "output_type": "stream",
     "text": [
      " 10%|████████                                                                      | 27/262 [00:30<03:56,  1.01s/it]"
     ]
    },
    {
     "name": "stdout",
     "output_type": "stream",
     "text": [
      "Skull stripping patient#: 27\n",
      "Skull stripping already done.\n",
      "Took 0.0007748603820800781 seconds to skull strip\n"
     ]
    },
    {
     "name": "stderr",
     "output_type": "stream",
     "text": [
      " 11%|████████▎                                                                     | 28/262 [00:31<04:06,  1.05s/it]"
     ]
    },
    {
     "name": "stdout",
     "output_type": "stream",
     "text": [
      "Skull stripping patient#: 28\n",
      "Skull stripping already done.\n",
      "Took 0.0005435943603515625 seconds to skull strip\n"
     ]
    },
    {
     "name": "stderr",
     "output_type": "stream",
     "text": [
      " 11%|████████▋                                                                     | 29/262 [00:32<04:07,  1.06s/it]"
     ]
    },
    {
     "name": "stdout",
     "output_type": "stream",
     "text": [
      "Skull stripping patient#: 29\n",
      "Skull stripping already done.\n",
      "Took 0.0005271434783935547 seconds to skull strip\n"
     ]
    },
    {
     "name": "stderr",
     "output_type": "stream",
     "text": [
      " 11%|████████▉                                                                     | 30/262 [00:33<04:10,  1.08s/it]"
     ]
    },
    {
     "name": "stdout",
     "output_type": "stream",
     "text": [
      "Skull stripping patient#: 30\n",
      "Skull stripping already done.\n",
      "Took 0.0005292892456054688 seconds to skull strip\n"
     ]
    },
    {
     "name": "stderr",
     "output_type": "stream",
     "text": [
      " 12%|█████████▏                                                                    | 31/262 [00:34<04:10,  1.08s/it]"
     ]
    },
    {
     "name": "stdout",
     "output_type": "stream",
     "text": [
      "Skull stripping patient#: 31\n",
      "Skull stripping already done.\n",
      "Took 0.0005004405975341797 seconds to skull strip\n"
     ]
    },
    {
     "name": "stderr",
     "output_type": "stream",
     "text": [
      " 12%|█████████▌                                                                    | 32/262 [00:35<04:07,  1.08s/it]"
     ]
    },
    {
     "name": "stdout",
     "output_type": "stream",
     "text": [
      "Skull stripping patient#: 32\n",
      "Skull stripping already done.\n",
      "Took 0.0005052089691162109 seconds to skull strip\n"
     ]
    },
    {
     "name": "stderr",
     "output_type": "stream",
     "text": [
      " 13%|█████████▊                                                                    | 33/262 [00:36<04:11,  1.10s/it]"
     ]
    },
    {
     "name": "stdout",
     "output_type": "stream",
     "text": [
      "Skull stripping patient#: 33\n",
      "Skull stripping already done.\n",
      "Took 0.0005729198455810547 seconds to skull strip\n",
      "Skull stripping patient#: 35\n"
     ]
    },
    {
     "name": "stderr",
     "output_type": "stream",
     "text": [
      " 13%|██████████▍                                                                   | 35/262 [01:06<28:32,  7.55s/it]"
     ]
    },
    {
     "name": "stdout",
     "output_type": "stream",
     "text": [
      "Took 28.291456937789917 seconds to skull strip\n",
      "Skull stripping patient#: 36\n"
     ]
    },
    {
     "name": "stderr",
     "output_type": "stream",
     "text": [
      " 14%|██████████▋                                                                   | 36/262 [01:37<49:39, 13.18s/it]"
     ]
    },
    {
     "name": "stdout",
     "output_type": "stream",
     "text": [
      "Took 28.44410467147827 seconds to skull strip\n",
      "Skull stripping patient#: 37\n"
     ]
    },
    {
     "name": "stderr",
     "output_type": "stream",
     "text": [
      " 14%|██████████▋                                                                 | 37/262 [02:07<1:06:18, 17.68s/it]"
     ]
    },
    {
     "name": "stdout",
     "output_type": "stream",
     "text": [
      "Took 28.39322304725647 seconds to skull strip\n",
      "Skull stripping patient#: 38\n"
     ]
    },
    {
     "name": "stderr",
     "output_type": "stream",
     "text": [
      " 15%|███████████                                                                 | 38/262 [02:37<1:18:54, 21.14s/it]"
     ]
    },
    {
     "name": "stdout",
     "output_type": "stream",
     "text": [
      "Took 28.563009023666382 seconds to skull strip\n",
      "Skull stripping patient#: 39\n"
     ]
    },
    {
     "name": "stderr",
     "output_type": "stream",
     "text": [
      " 15%|███████████▎                                                                | 39/262 [03:08<1:28:11, 23.73s/it]"
     ]
    },
    {
     "name": "stdout",
     "output_type": "stream",
     "text": [
      "Took 28.512173175811768 seconds to skull strip\n",
      "Skull stripping patient#: 40\n"
     ]
    },
    {
     "name": "stderr",
     "output_type": "stream",
     "text": [
      " 15%|███████████▌                                                                | 40/262 [03:38<1:34:34, 25.56s/it]"
     ]
    },
    {
     "name": "stdout",
     "output_type": "stream",
     "text": [
      "Took 28.309558153152466 seconds to skull strip\n",
      "Skull stripping patient#: 41\n"
     ]
    },
    {
     "name": "stderr",
     "output_type": "stream",
     "text": [
      " 16%|███████████▉                                                                | 41/262 [04:08<1:38:59, 26.88s/it]"
     ]
    },
    {
     "name": "stdout",
     "output_type": "stream",
     "text": [
      "Took 28.30926752090454 seconds to skull strip\n",
      "Skull stripping patient#: 42\n"
     ]
    },
    {
     "name": "stderr",
     "output_type": "stream",
     "text": [
      " 16%|████████████▏                                                               | 42/262 [04:38<1:41:45, 27.75s/it]"
     ]
    },
    {
     "name": "stdout",
     "output_type": "stream",
     "text": [
      "Took 28.097986459732056 seconds to skull strip\n",
      "Skull stripping patient#: 43\n"
     ]
    },
    {
     "name": "stderr",
     "output_type": "stream",
     "text": [
      " 16%|████████████▍                                                               | 43/262 [05:08<1:43:57, 28.48s/it]"
     ]
    },
    {
     "name": "stdout",
     "output_type": "stream",
     "text": [
      "Took 28.299200534820557 seconds to skull strip\n",
      "Skull stripping patient#: 44\n"
     ]
    },
    {
     "name": "stderr",
     "output_type": "stream",
     "text": [
      " 17%|████████████▊                                                               | 44/262 [05:38<1:45:03, 28.91s/it]"
     ]
    },
    {
     "name": "stdout",
     "output_type": "stream",
     "text": [
      "Took 28.118140697479248 seconds to skull strip\n",
      "Skull stripping patient#: 45\n"
     ]
    },
    {
     "name": "stderr",
     "output_type": "stream",
     "text": [
      " 17%|█████████████                                                               | 45/262 [06:09<1:46:22, 29.41s/it]"
     ]
    },
    {
     "name": "stdout",
     "output_type": "stream",
     "text": [
      "Took 28.72986388206482 seconds to skull strip\n",
      "Skull stripping patient#: 46\n"
     ]
    },
    {
     "name": "stderr",
     "output_type": "stream",
     "text": [
      " 18%|█████████████▎                                                              | 46/262 [06:37<1:44:24, 29.00s/it]"
     ]
    },
    {
     "name": "stdout",
     "output_type": "stream",
     "text": [
      "Took 27.082477569580078 seconds to skull strip\n",
      "Skull stripping patient#: 47\n"
     ]
    },
    {
     "name": "stderr",
     "output_type": "stream",
     "text": [
      " 18%|█████████████▋                                                              | 47/262 [07:07<1:44:57, 29.29s/it]"
     ]
    },
    {
     "name": "stdout",
     "output_type": "stream",
     "text": [
      "Took 28.211143016815186 seconds to skull strip\n",
      "Skull stripping patient#: 48\n"
     ]
    },
    {
     "name": "stderr",
     "output_type": "stream",
     "text": [
      " 18%|█████████████▉                                                              | 48/262 [07:37<1:45:24, 29.55s/it]"
     ]
    },
    {
     "name": "stdout",
     "output_type": "stream",
     "text": [
      "Took 28.336822032928467 seconds to skull strip\n",
      "Skull stripping patient#: 49\n"
     ]
    },
    {
     "name": "stderr",
     "output_type": "stream",
     "text": [
      " 19%|██████████████▏                                                             | 49/262 [08:07<1:45:48, 29.81s/it]"
     ]
    },
    {
     "name": "stdout",
     "output_type": "stream",
     "text": [
      "Took 28.59322738647461 seconds to skull strip\n",
      "Skull stripping patient#: 50\n"
     ]
    },
    {
     "name": "stderr",
     "output_type": "stream",
     "text": [
      " 19%|██████████████▌                                                             | 50/262 [08:36<1:44:20, 29.53s/it]"
     ]
    },
    {
     "name": "stdout",
     "output_type": "stream",
     "text": [
      "Took 27.536346435546875 seconds to skull strip\n",
      "Skull stripping patient#: 51\n"
     ]
    },
    {
     "name": "stderr",
     "output_type": "stream",
     "text": [
      " 19%|██████████████▊                                                             | 51/262 [09:07<1:44:46, 29.80s/it]"
     ]
    },
    {
     "name": "stdout",
     "output_type": "stream",
     "text": [
      "Took 28.259902715682983 seconds to skull strip\n",
      "Skull stripping patient#: 52\n"
     ]
    },
    {
     "name": "stderr",
     "output_type": "stream",
     "text": [
      " 20%|███████████████                                                             | 52/262 [09:37<1:44:35, 29.88s/it]"
     ]
    },
    {
     "name": "stdout",
     "output_type": "stream",
     "text": [
      "Took 28.252453804016113 seconds to skull strip\n",
      "Skull stripping patient#: 53\n"
     ]
    },
    {
     "name": "stderr",
     "output_type": "stream",
     "text": [
      " 20%|███████████████▎                                                            | 53/262 [10:07<1:44:28, 29.99s/it]"
     ]
    },
    {
     "name": "stdout",
     "output_type": "stream",
     "text": [
      "Took 28.41947317123413 seconds to skull strip\n",
      "Skull stripping patient#: 54\n"
     ]
    },
    {
     "name": "stderr",
     "output_type": "stream",
     "text": [
      " 21%|███████████████▋                                                            | 54/262 [10:37<1:44:15, 30.08s/it]"
     ]
    },
    {
     "name": "stdout",
     "output_type": "stream",
     "text": [
      "Took 28.499780416488647 seconds to skull strip\n",
      "Skull stripping patient#: 55\n"
     ]
    },
    {
     "name": "stderr",
     "output_type": "stream",
     "text": [
      " 21%|███████████████▉                                                            | 55/262 [11:08<1:44:12, 30.21s/it]"
     ]
    },
    {
     "name": "stdout",
     "output_type": "stream",
     "text": [
      "Took 28.519965410232544 seconds to skull strip\n",
      "Skull stripping patient#: 56\n"
     ]
    },
    {
     "name": "stderr",
     "output_type": "stream",
     "text": [
      " 21%|████████████████▏                                                           | 56/262 [11:38<1:43:44, 30.21s/it]"
     ]
    },
    {
     "name": "stdout",
     "output_type": "stream",
     "text": [
      "Took 28.36930012702942 seconds to skull strip\n",
      "Skull stripping patient#: 57\n"
     ]
    },
    {
     "name": "stderr",
     "output_type": "stream",
     "text": [
      " 22%|████████████████▌                                                           | 57/262 [12:08<1:43:04, 30.17s/it]"
     ]
    },
    {
     "name": "stdout",
     "output_type": "stream",
     "text": [
      "Took 28.232890605926514 seconds to skull strip\n",
      "Skull stripping patient#: 58\n"
     ]
    },
    {
     "name": "stderr",
     "output_type": "stream",
     "text": [
      " 22%|████████████████▊                                                           | 58/262 [12:38<1:42:57, 30.28s/it]"
     ]
    },
    {
     "name": "stdout",
     "output_type": "stream",
     "text": [
      "Took 28.513763666152954 seconds to skull strip\n",
      "Skull stripping patient#: 59\n"
     ]
    },
    {
     "name": "stderr",
     "output_type": "stream",
     "text": [
      " 23%|█████████████████                                                           | 59/262 [13:09<1:42:31, 30.30s/it]"
     ]
    },
    {
     "name": "stdout",
     "output_type": "stream",
     "text": [
      "Took 28.420878887176514 seconds to skull strip\n",
      "Skull stripping patient#: 60\n"
     ]
    },
    {
     "name": "stderr",
     "output_type": "stream",
     "text": [
      " 23%|█████████████████▍                                                          | 60/262 [13:39<1:41:59, 30.30s/it]"
     ]
    },
    {
     "name": "stdout",
     "output_type": "stream",
     "text": [
      "Took 28.47012996673584 seconds to skull strip\n",
      "Skull stripping patient#: 61\n"
     ]
    },
    {
     "name": "stderr",
     "output_type": "stream",
     "text": [
      " 23%|█████████████████▋                                                          | 61/262 [14:09<1:41:05, 30.18s/it]"
     ]
    },
    {
     "name": "stdout",
     "output_type": "stream",
     "text": [
      "Took 28.118926286697388 seconds to skull strip\n",
      "Skull stripping patient#: 62\n"
     ]
    },
    {
     "name": "stderr",
     "output_type": "stream",
     "text": [
      " 24%|█████████████████▉                                                          | 62/262 [14:40<1:40:55, 30.28s/it]"
     ]
    },
    {
     "name": "stdout",
     "output_type": "stream",
     "text": [
      "Took 28.56341862678528 seconds to skull strip\n",
      "Skull stripping patient#: 63\n"
     ]
    },
    {
     "name": "stderr",
     "output_type": "stream",
     "text": [
      " 24%|██████████████████▎                                                         | 63/262 [15:11<1:41:11, 30.51s/it]"
     ]
    },
    {
     "name": "stdout",
     "output_type": "stream",
     "text": [
      "Took 28.68807578086853 seconds to skull strip\n",
      "Skull stripping patient#: 64\n"
     ]
    },
    {
     "name": "stderr",
     "output_type": "stream",
     "text": [
      " 24%|██████████████████▌                                                         | 64/262 [15:41<1:40:17, 30.39s/it]"
     ]
    },
    {
     "name": "stdout",
     "output_type": "stream",
     "text": [
      "Took 28.061049461364746 seconds to skull strip\n",
      "Skull stripping patient#: 65\n"
     ]
    },
    {
     "name": "stderr",
     "output_type": "stream",
     "text": [
      " 25%|██████████████████▊                                                         | 65/262 [16:11<1:40:06, 30.49s/it]"
     ]
    },
    {
     "name": "stdout",
     "output_type": "stream",
     "text": [
      "Took 28.492631912231445 seconds to skull strip\n",
      "Skull stripping patient#: 66\n"
     ]
    },
    {
     "name": "stderr",
     "output_type": "stream",
     "text": [
      " 25%|███████████████████▏                                                        | 66/262 [16:42<1:39:13, 30.38s/it]"
     ]
    },
    {
     "name": "stdout",
     "output_type": "stream",
     "text": [
      "Took 28.217843770980835 seconds to skull strip\n",
      "Skull stripping patient#: 67\n"
     ]
    },
    {
     "name": "stderr",
     "output_type": "stream",
     "text": [
      " 26%|███████████████████▍                                                        | 67/262 [17:12<1:38:44, 30.38s/it]"
     ]
    },
    {
     "name": "stdout",
     "output_type": "stream",
     "text": [
      "Took 28.143248558044434 seconds to skull strip\n",
      "Skull stripping patient#: 68\n"
     ]
    },
    {
     "name": "stderr",
     "output_type": "stream",
     "text": [
      " 26%|███████████████████▋                                                        | 68/262 [17:42<1:38:23, 30.43s/it]"
     ]
    },
    {
     "name": "stdout",
     "output_type": "stream",
     "text": [
      "Took 28.430693864822388 seconds to skull strip\n",
      "Skull stripping patient#: 69\n"
     ]
    },
    {
     "name": "stderr",
     "output_type": "stream",
     "text": [
      " 26%|████████████████████                                                        | 69/262 [18:13<1:37:43, 30.38s/it]"
     ]
    },
    {
     "name": "stdout",
     "output_type": "stream",
     "text": [
      "Took 28.233943700790405 seconds to skull strip\n",
      "Skull stripping patient#: 70\n"
     ]
    },
    {
     "name": "stderr",
     "output_type": "stream",
     "text": [
      " 27%|████████████████████▎                                                       | 70/262 [18:41<1:35:11, 29.75s/it]"
     ]
    },
    {
     "name": "stdout",
     "output_type": "stream",
     "text": [
      "Took 27.16819190979004 seconds to skull strip\n",
      "Skull stripping patient#: 71\n"
     ]
    },
    {
     "name": "stderr",
     "output_type": "stream",
     "text": [
      " 27%|████████████████████▌                                                       | 71/262 [19:11<1:35:15, 29.93s/it]"
     ]
    },
    {
     "name": "stdout",
     "output_type": "stream",
     "text": [
      "Took 28.432316541671753 seconds to skull strip\n",
      "Skull stripping patient#: 72\n"
     ]
    },
    {
     "name": "stderr",
     "output_type": "stream",
     "text": [
      " 27%|████████████████████▉                                                       | 72/262 [19:39<1:33:00, 29.37s/it]"
     ]
    },
    {
     "name": "stdout",
     "output_type": "stream",
     "text": [
      "Took 26.92720890045166 seconds to skull strip\n",
      "Skull stripping patient#: 73\n"
     ]
    },
    {
     "name": "stderr",
     "output_type": "stream",
     "text": [
      " 28%|█████████████████████▏                                                      | 73/262 [20:09<1:33:01, 29.53s/it]"
     ]
    },
    {
     "name": "stdout",
     "output_type": "stream",
     "text": [
      "Took 28.146809816360474 seconds to skull strip\n",
      "Skull stripping patient#: 74\n"
     ]
    },
    {
     "name": "stderr",
     "output_type": "stream",
     "text": [
      " 28%|█████████████████████▍                                                      | 74/262 [20:40<1:33:16, 29.77s/it]"
     ]
    },
    {
     "name": "stdout",
     "output_type": "stream",
     "text": [
      "Took 28.205750703811646 seconds to skull strip\n",
      "Skull stripping patient#: 75\n"
     ]
    },
    {
     "name": "stderr",
     "output_type": "stream",
     "text": [
      " 29%|█████████████████████▊                                                      | 75/262 [21:10<1:33:28, 29.99s/it]"
     ]
    },
    {
     "name": "stdout",
     "output_type": "stream",
     "text": [
      "Took 28.42882990837097 seconds to skull strip\n",
      "Skull stripping patient#: 76\n"
     ]
    },
    {
     "name": "stderr",
     "output_type": "stream",
     "text": [
      " 29%|██████████████████████                                                      | 76/262 [21:40<1:32:45, 29.92s/it]"
     ]
    },
    {
     "name": "stdout",
     "output_type": "stream",
     "text": [
      "Took 27.944276094436646 seconds to skull strip\n",
      "Skull stripping patient#: 77\n"
     ]
    },
    {
     "name": "stderr",
     "output_type": "stream",
     "text": [
      " 29%|██████████████████████▎                                                     | 77/262 [22:11<1:33:31, 30.33s/it]"
     ]
    },
    {
     "name": "stdout",
     "output_type": "stream",
     "text": [
      "Took 28.476682901382446 seconds to skull strip\n",
      "Skull stripping patient#: 78\n"
     ]
    },
    {
     "name": "stderr",
     "output_type": "stream",
     "text": [
      " 30%|██████████████████████▋                                                     | 78/262 [22:41<1:32:41, 30.22s/it]"
     ]
    },
    {
     "name": "stdout",
     "output_type": "stream",
     "text": [
      "Took 28.145176887512207 seconds to skull strip\n",
      "Skull stripping patient#: 79\n"
     ]
    },
    {
     "name": "stderr",
     "output_type": "stream",
     "text": [
      " 30%|██████████████████████▉                                                     | 79/262 [23:11<1:32:06, 30.20s/it]"
     ]
    },
    {
     "name": "stdout",
     "output_type": "stream",
     "text": [
      "Took 28.300469160079956 seconds to skull strip\n",
      "Skull stripping patient#: 80\n"
     ]
    },
    {
     "name": "stderr",
     "output_type": "stream",
     "text": [
      " 31%|███████████████████████▏                                                    | 80/262 [23:42<1:32:05, 30.36s/it]"
     ]
    },
    {
     "name": "stdout",
     "output_type": "stream",
     "text": [
      "Took 28.294874906539917 seconds to skull strip\n",
      "Skull stripping patient#: 81\n"
     ]
    },
    {
     "name": "stderr",
     "output_type": "stream",
     "text": [
      " 31%|███████████████████████▍                                                    | 81/262 [24:12<1:31:13, 30.24s/it]"
     ]
    },
    {
     "name": "stdout",
     "output_type": "stream",
     "text": [
      "Took 28.27084755897522 seconds to skull strip\n",
      "Skull stripping patient#: 82\n"
     ]
    },
    {
     "name": "stderr",
     "output_type": "stream",
     "text": [
      " 31%|███████████████████████▊                                                    | 82/262 [24:42<1:30:51, 30.29s/it]"
     ]
    },
    {
     "name": "stdout",
     "output_type": "stream",
     "text": [
      "Took 28.462083339691162 seconds to skull strip\n",
      "Skull stripping patient#: 83\n"
     ]
    },
    {
     "name": "stderr",
     "output_type": "stream",
     "text": [
      " 32%|████████████████████████                                                    | 83/262 [25:13<1:30:18, 30.27s/it]"
     ]
    },
    {
     "name": "stdout",
     "output_type": "stream",
     "text": [
      "Took 28.277613162994385 seconds to skull strip\n",
      "Skull stripping patient#: 84\n"
     ]
    },
    {
     "name": "stderr",
     "output_type": "stream",
     "text": [
      " 32%|████████████████████████▎                                                   | 84/262 [25:43<1:29:33, 30.19s/it]"
     ]
    },
    {
     "name": "stdout",
     "output_type": "stream",
     "text": [
      "Took 28.193979740142822 seconds to skull strip\n",
      "Skull stripping patient#: 85\n"
     ]
    },
    {
     "name": "stderr",
     "output_type": "stream",
     "text": [
      " 32%|████████████████████████▋                                                   | 85/262 [26:13<1:28:52, 30.13s/it]"
     ]
    },
    {
     "name": "stdout",
     "output_type": "stream",
     "text": [
      "Took 28.128705263137817 seconds to skull strip\n",
      "Skull stripping patient#: 86\n"
     ]
    },
    {
     "name": "stderr",
     "output_type": "stream",
     "text": [
      " 33%|████████████████████████▉                                                   | 86/262 [26:43<1:28:38, 30.22s/it]"
     ]
    },
    {
     "name": "stdout",
     "output_type": "stream",
     "text": [
      "Took 28.460988759994507 seconds to skull strip\n",
      "Skull stripping patient#: 87\n"
     ]
    },
    {
     "name": "stderr",
     "output_type": "stream",
     "text": [
      " 33%|█████████████████████████▏                                                  | 87/262 [27:13<1:27:51, 30.12s/it]"
     ]
    },
    {
     "name": "stdout",
     "output_type": "stream",
     "text": [
      "Took 28.127152919769287 seconds to skull strip\n",
      "Skull stripping patient#: 88\n"
     ]
    },
    {
     "name": "stderr",
     "output_type": "stream",
     "text": [
      " 34%|█████████████████████████▌                                                  | 88/262 [27:43<1:27:22, 30.13s/it]"
     ]
    },
    {
     "name": "stdout",
     "output_type": "stream",
     "text": [
      "Took 28.26604700088501 seconds to skull strip\n",
      "Skull stripping patient#: 89\n"
     ]
    },
    {
     "name": "stderr",
     "output_type": "stream",
     "text": [
      " 34%|█████████████████████████▊                                                  | 89/262 [28:13<1:26:39, 30.06s/it]"
     ]
    },
    {
     "name": "stdout",
     "output_type": "stream",
     "text": [
      "Took 28.09382462501526 seconds to skull strip\n",
      "Skull stripping patient#: 90\n"
     ]
    },
    {
     "name": "stderr",
     "output_type": "stream",
     "text": [
      " 34%|██████████████████████████                                                  | 90/262 [28:43<1:26:24, 30.14s/it]"
     ]
    },
    {
     "name": "stdout",
     "output_type": "stream",
     "text": [
      "Took 28.342271089553833 seconds to skull strip\n",
      "Skull stripping patient#: 91\n"
     ]
    },
    {
     "name": "stderr",
     "output_type": "stream",
     "text": [
      " 35%|██████████████████████████▍                                                 | 91/262 [29:14<1:25:56, 30.16s/it]"
     ]
    },
    {
     "name": "stdout",
     "output_type": "stream",
     "text": [
      "Took 28.258611917495728 seconds to skull strip\n",
      "Skull stripping patient#: 92\n"
     ]
    },
    {
     "name": "stderr",
     "output_type": "stream",
     "text": [
      " 35%|██████████████████████████▋                                                 | 92/262 [29:43<1:25:05, 30.03s/it]"
     ]
    },
    {
     "name": "stdout",
     "output_type": "stream",
     "text": [
      "Took 27.968405723571777 seconds to skull strip\n",
      "Skull stripping patient#: 93\n"
     ]
    },
    {
     "name": "stderr",
     "output_type": "stream",
     "text": [
      " 35%|██████████████████████████▉                                                 | 93/262 [30:13<1:24:41, 30.07s/it]"
     ]
    },
    {
     "name": "stdout",
     "output_type": "stream",
     "text": [
      "Took 28.273449182510376 seconds to skull strip\n",
      "Skull stripping patient#: 94\n"
     ]
    },
    {
     "name": "stderr",
     "output_type": "stream",
     "text": [
      " 36%|███████████████████████████▎                                                | 94/262 [30:44<1:24:17, 30.11s/it]"
     ]
    },
    {
     "name": "stdout",
     "output_type": "stream",
     "text": [
      "Took 28.315044164657593 seconds to skull strip\n",
      "Skull stripping patient#: 95\n"
     ]
    },
    {
     "name": "stderr",
     "output_type": "stream",
     "text": [
      " 36%|███████████████████████████▌                                                | 95/262 [31:14<1:23:57, 30.16s/it]"
     ]
    },
    {
     "name": "stdout",
     "output_type": "stream",
     "text": [
      "Took 28.369425773620605 seconds to skull strip\n",
      "Skull stripping patient#: 96\n"
     ]
    },
    {
     "name": "stderr",
     "output_type": "stream",
     "text": [
      " 37%|███████████████████████████▊                                                | 96/262 [31:44<1:23:35, 30.22s/it]"
     ]
    },
    {
     "name": "stdout",
     "output_type": "stream",
     "text": [
      "Took 28.25509238243103 seconds to skull strip\n",
      "Skull stripping patient#: 97\n"
     ]
    },
    {
     "name": "stderr",
     "output_type": "stream",
     "text": [
      " 37%|████████████████████████████▏                                               | 97/262 [32:11<1:20:38, 29.32s/it]"
     ]
    },
    {
     "name": "stdout",
     "output_type": "stream",
     "text": [
      "Took 26.563151597976685 seconds to skull strip\n",
      "Skull stripping patient#: 98\n"
     ]
    },
    {
     "name": "stderr",
     "output_type": "stream",
     "text": [
      " 37%|████████████████████████████▍                                               | 98/262 [32:38<1:18:15, 28.63s/it]"
     ]
    },
    {
     "name": "stdout",
     "output_type": "stream",
     "text": [
      "Took 24.69584560394287 seconds to skull strip\n",
      "Skull stripping patient#: 99\n"
     ]
    },
    {
     "name": "stderr",
     "output_type": "stream",
     "text": [
      " 38%|████████████████████████████▋                                               | 99/262 [33:05<1:15:49, 27.91s/it]"
     ]
    },
    {
     "name": "stdout",
     "output_type": "stream",
     "text": [
      "Took 23.696281671524048 seconds to skull strip\n",
      "Skull stripping patient#: 100\n"
     ]
    },
    {
     "name": "stderr",
     "output_type": "stream",
     "text": [
      " 38%|████████████████████████████▋                                              | 100/262 [33:35<1:17:03, 28.54s/it]"
     ]
    },
    {
     "name": "stdout",
     "output_type": "stream",
     "text": [
      "Took 27.986008167266846 seconds to skull strip\n",
      "Skull stripping patient#: 101\n"
     ]
    },
    {
     "name": "stderr",
     "output_type": "stream",
     "text": [
      " 39%|████████████████████████████▉                                              | 101/262 [34:05<1:18:10, 29.14s/it]"
     ]
    },
    {
     "name": "stdout",
     "output_type": "stream",
     "text": [
      "Took 28.38323473930359 seconds to skull strip\n",
      "Skull stripping patient#: 102\n"
     ]
    },
    {
     "name": "stderr",
     "output_type": "stream",
     "text": [
      " 39%|█████████████████████████████▏                                             | 102/262 [34:36<1:18:35, 29.47s/it]"
     ]
    },
    {
     "name": "stdout",
     "output_type": "stream",
     "text": [
      "Took 28.29264807701111 seconds to skull strip\n",
      "Skull stripping patient#: 103\n"
     ]
    },
    {
     "name": "stderr",
     "output_type": "stream",
     "text": [
      " 39%|█████████████████████████████▍                                             | 103/262 [35:06<1:19:07, 29.86s/it]"
     ]
    },
    {
     "name": "stdout",
     "output_type": "stream",
     "text": [
      "Took 28.52953600883484 seconds to skull strip\n",
      "Skull stripping patient#: 104\n"
     ]
    },
    {
     "name": "stderr",
     "output_type": "stream",
     "text": [
      " 40%|█████████████████████████████▊                                             | 104/262 [35:37<1:19:01, 30.01s/it]"
     ]
    },
    {
     "name": "stdout",
     "output_type": "stream",
     "text": [
      "Took 28.309455633163452 seconds to skull strip\n",
      "Skull stripping patient#: 105\n"
     ]
    },
    {
     "name": "stderr",
     "output_type": "stream",
     "text": [
      " 40%|██████████████████████████████                                             | 105/262 [36:07<1:18:32, 30.01s/it]"
     ]
    },
    {
     "name": "stdout",
     "output_type": "stream",
     "text": [
      "Took 28.049158334732056 seconds to skull strip\n",
      "Skull stripping patient#: 106\n"
     ]
    },
    {
     "name": "stderr",
     "output_type": "stream",
     "text": [
      " 40%|██████████████████████████████▎                                            | 106/262 [36:34<1:15:56, 29.21s/it]"
     ]
    },
    {
     "name": "stdout",
     "output_type": "stream",
     "text": [
      "Took 26.612961292266846 seconds to skull strip\n",
      "Skull stripping patient#: 107\n"
     ]
    },
    {
     "name": "stderr",
     "output_type": "stream",
     "text": [
      " 41%|██████████████████████████████▋                                            | 107/262 [37:04<1:16:03, 29.44s/it]"
     ]
    },
    {
     "name": "stdout",
     "output_type": "stream",
     "text": [
      "Took 28.171271324157715 seconds to skull strip\n",
      "Skull stripping patient#: 108\n"
     ]
    },
    {
     "name": "stderr",
     "output_type": "stream",
     "text": [
      " 41%|██████████████████████████████▉                                            | 108/262 [37:32<1:14:35, 29.06s/it]"
     ]
    },
    {
     "name": "stdout",
     "output_type": "stream",
     "text": [
      "Took 27.080156564712524 seconds to skull strip\n",
      "Skull stripping patient#: 109\n"
     ]
    },
    {
     "name": "stderr",
     "output_type": "stream",
     "text": [
      " 42%|███████████████████████████████▏                                           | 109/262 [38:03<1:15:06, 29.45s/it]"
     ]
    },
    {
     "name": "stdout",
     "output_type": "stream",
     "text": [
      "Took 28.371270895004272 seconds to skull strip\n",
      "Skull stripping patient#: 110\n"
     ]
    },
    {
     "name": "stderr",
     "output_type": "stream",
     "text": [
      " 42%|███████████████████████████████▍                                           | 110/262 [38:33<1:15:09, 29.67s/it]"
     ]
    },
    {
     "name": "stdout",
     "output_type": "stream",
     "text": [
      "Took 28.198482751846313 seconds to skull strip\n",
      "Skull stripping patient#: 112\n"
     ]
    },
    {
     "name": "stderr",
     "output_type": "stream",
     "text": [
      " 43%|████████████████████████████████▉                                            | 112/262 [39:03<57:31, 23.01s/it]"
     ]
    },
    {
     "name": "stdout",
     "output_type": "stream",
     "text": [
      "Took 28.465811252593994 seconds to skull strip\n",
      "Skull stripping patient#: 113\n"
     ]
    },
    {
     "name": "stderr",
     "output_type": "stream",
     "text": [
      " 43%|████████████████████████████████▎                                          | 113/262 [39:33<1:01:24, 24.73s/it]"
     ]
    },
    {
     "name": "stdout",
     "output_type": "stream",
     "text": [
      "Took 28.143277883529663 seconds to skull strip\n",
      "Skull stripping patient#: 114\n"
     ]
    },
    {
     "name": "stderr",
     "output_type": "stream",
     "text": [
      " 44%|████████████████████████████████▋                                          | 114/262 [40:03<1:04:22, 26.10s/it]"
     ]
    },
    {
     "name": "stdout",
     "output_type": "stream",
     "text": [
      "Took 28.07055926322937 seconds to skull strip\n",
      "Skull stripping patient#: 115\n"
     ]
    },
    {
     "name": "stderr",
     "output_type": "stream",
     "text": [
      " 44%|████████████████████████████████▉                                          | 115/262 [40:33<1:06:32, 27.16s/it]"
     ]
    },
    {
     "name": "stdout",
     "output_type": "stream",
     "text": [
      "Took 28.207019090652466 seconds to skull strip\n",
      "Skull stripping patient#: 116\n"
     ]
    },
    {
     "name": "stderr",
     "output_type": "stream",
     "text": [
      " 44%|█████████████████████████████████▏                                         | 116/262 [41:03<1:08:10, 28.02s/it]"
     ]
    },
    {
     "name": "stdout",
     "output_type": "stream",
     "text": [
      "Took 28.30815315246582 seconds to skull strip\n",
      "Skull stripping patient#: 117\n"
     ]
    },
    {
     "name": "stderr",
     "output_type": "stream",
     "text": [
      " 45%|█████████████████████████████████▍                                         | 117/262 [41:34<1:09:28, 28.75s/it]"
     ]
    },
    {
     "name": "stdout",
     "output_type": "stream",
     "text": [
      "Took 28.68457317352295 seconds to skull strip\n",
      "Skull stripping patient#: 118\n"
     ]
    },
    {
     "name": "stderr",
     "output_type": "stream",
     "text": [
      " 45%|█████████████████████████████████▊                                         | 118/262 [42:04<1:09:53, 29.12s/it]"
     ]
    },
    {
     "name": "stdout",
     "output_type": "stream",
     "text": [
      "Took 28.159082889556885 seconds to skull strip\n",
      "Skull stripping patient#: 120\n"
     ]
    },
    {
     "name": "stderr",
     "output_type": "stream",
     "text": [
      " 46%|███████████████████████████████████▎                                         | 120/262 [42:34<53:47, 22.73s/it]"
     ]
    },
    {
     "name": "stdout",
     "output_type": "stream",
     "text": [
      "Took 28.20787000656128 seconds to skull strip\n",
      "Skull stripping patient#: 121\n"
     ]
    },
    {
     "name": "stderr",
     "output_type": "stream",
     "text": [
      " 46%|███████████████████████████████████▌                                         | 121/262 [43:04<57:41, 24.55s/it]"
     ]
    },
    {
     "name": "stdout",
     "output_type": "stream",
     "text": [
      "Took 28.420982599258423 seconds to skull strip\n",
      "Skull stripping patient#: 122\n"
     ]
    },
    {
     "name": "stderr",
     "output_type": "stream",
     "text": [
      " 47%|██████████████████████████████████▉                                        | 122/262 [43:34<1:00:42, 26.01s/it]"
     ]
    },
    {
     "name": "stdout",
     "output_type": "stream",
     "text": [
      "Took 28.380413055419922 seconds to skull strip\n",
      "Skull stripping patient#: 123\n"
     ]
    },
    {
     "name": "stderr",
     "output_type": "stream",
     "text": [
      " 47%|███████████████████████████████████▏                                       | 123/262 [44:05<1:02:53, 27.15s/it]"
     ]
    },
    {
     "name": "stdout",
     "output_type": "stream",
     "text": [
      "Took 28.315500497817993 seconds to skull strip\n",
      "Skull stripping patient#: 124\n"
     ]
    },
    {
     "name": "stderr",
     "output_type": "stream",
     "text": [
      " 47%|███████████████████████████████████▍                                       | 124/262 [44:33<1:03:30, 27.61s/it]"
     ]
    },
    {
     "name": "stdout",
     "output_type": "stream",
     "text": [
      "Took 27.512919425964355 seconds to skull strip\n",
      "Skull stripping patient#: 125\n"
     ]
    },
    {
     "name": "stderr",
     "output_type": "stream",
     "text": [
      " 48%|███████████████████████████████████▊                                       | 125/262 [45:04<1:04:54, 28.43s/it]"
     ]
    },
    {
     "name": "stdout",
     "output_type": "stream",
     "text": [
      "Took 28.556527376174927 seconds to skull strip\n",
      "Skull stripping patient#: 126\n"
     ]
    },
    {
     "name": "stderr",
     "output_type": "stream",
     "text": [
      " 48%|████████████████████████████████████                                       | 126/262 [45:34<1:05:30, 28.90s/it]"
     ]
    },
    {
     "name": "stdout",
     "output_type": "stream",
     "text": [
      "Took 28.326341152191162 seconds to skull strip\n",
      "Skull stripping patient#: 127\n"
     ]
    },
    {
     "name": "stderr",
     "output_type": "stream",
     "text": [
      " 48%|████████████████████████████████████▎                                      | 127/262 [46:04<1:05:58, 29.32s/it]"
     ]
    },
    {
     "name": "stdout",
     "output_type": "stream",
     "text": [
      "Took 28.406448125839233 seconds to skull strip\n",
      "Skull stripping patient#: 128\n"
     ]
    },
    {
     "name": "stderr",
     "output_type": "stream",
     "text": [
      " 49%|████████████████████████████████████▋                                      | 128/262 [46:34<1:06:00, 29.55s/it]"
     ]
    },
    {
     "name": "stdout",
     "output_type": "stream",
     "text": [
      "Took 28.314960479736328 seconds to skull strip\n",
      "Skull stripping patient#: 129\n"
     ]
    },
    {
     "name": "stderr",
     "output_type": "stream",
     "text": [
      " 49%|████████████████████████████████████▉                                      | 129/262 [47:04<1:05:48, 29.69s/it]"
     ]
    },
    {
     "name": "stdout",
     "output_type": "stream",
     "text": [
      "Took 28.145912647247314 seconds to skull strip\n",
      "Skull stripping patient#: 130\n"
     ]
    },
    {
     "name": "stderr",
     "output_type": "stream",
     "text": [
      " 50%|█████████████████████████████████████▏                                     | 130/262 [47:34<1:05:32, 29.79s/it]"
     ]
    },
    {
     "name": "stdout",
     "output_type": "stream",
     "text": [
      "Took 28.217036724090576 seconds to skull strip\n",
      "Skull stripping patient#: 131\n"
     ]
    },
    {
     "name": "stderr",
     "output_type": "stream",
     "text": [
      " 50%|█████████████████████████████████████▌                                     | 131/262 [48:04<1:05:12, 29.86s/it]"
     ]
    },
    {
     "name": "stdout",
     "output_type": "stream",
     "text": [
      "Took 28.214242696762085 seconds to skull strip\n",
      "Skull stripping patient#: 132\n"
     ]
    },
    {
     "name": "stderr",
     "output_type": "stream",
     "text": [
      " 50%|█████████████████████████████████████▊                                     | 132/262 [48:34<1:04:42, 29.86s/it]"
     ]
    },
    {
     "name": "stdout",
     "output_type": "stream",
     "text": [
      "Took 28.08622670173645 seconds to skull strip\n",
      "Skull stripping patient#: 133\n"
     ]
    },
    {
     "name": "stderr",
     "output_type": "stream",
     "text": [
      " 51%|██████████████████████████████████████                                     | 133/262 [49:04<1:04:25, 29.96s/it]"
     ]
    },
    {
     "name": "stdout",
     "output_type": "stream",
     "text": [
      "Took 28.389222383499146 seconds to skull strip\n",
      "Skull stripping patient#: 134\n"
     ]
    },
    {
     "name": "stderr",
     "output_type": "stream",
     "text": [
      " 51%|██████████████████████████████████████▎                                    | 134/262 [49:35<1:04:00, 30.01s/it]"
     ]
    },
    {
     "name": "stdout",
     "output_type": "stream",
     "text": [
      "Took 28.3846697807312 seconds to skull strip\n",
      "Skull stripping patient#: 135\n"
     ]
    },
    {
     "name": "stderr",
     "output_type": "stream",
     "text": [
      " 52%|██████████████████████████████████████▋                                    | 135/262 [50:04<1:03:10, 29.85s/it]"
     ]
    },
    {
     "name": "stdout",
     "output_type": "stream",
     "text": [
      "Took 27.81811547279358 seconds to skull strip\n",
      "Skull stripping patient#: 136\n"
     ]
    },
    {
     "name": "stderr",
     "output_type": "stream",
     "text": [
      " 52%|██████████████████████████████████████▉                                    | 136/262 [50:34<1:02:39, 29.83s/it]"
     ]
    },
    {
     "name": "stdout",
     "output_type": "stream",
     "text": [
      "Took 28.101466178894043 seconds to skull strip\n",
      "Skull stripping patient#: 137\n"
     ]
    },
    {
     "name": "stderr",
     "output_type": "stream",
     "text": [
      " 52%|███████████████████████████████████████▏                                   | 137/262 [51:04<1:02:07, 29.82s/it]"
     ]
    },
    {
     "name": "stdout",
     "output_type": "stream",
     "text": [
      "Took 28.068196773529053 seconds to skull strip\n",
      "Skull stripping patient#: 138\n"
     ]
    },
    {
     "name": "stderr",
     "output_type": "stream",
     "text": [
      " 53%|███████████████████████████████████████▌                                   | 138/262 [51:34<1:01:47, 29.90s/it]"
     ]
    },
    {
     "name": "stdout",
     "output_type": "stream",
     "text": [
      "Took 28.32384967803955 seconds to skull strip\n",
      "Skull stripping patient#: 139\n"
     ]
    },
    {
     "name": "stderr",
     "output_type": "stream",
     "text": [
      " 53%|███████████████████████████████████████▊                                   | 139/262 [52:04<1:01:26, 29.97s/it]"
     ]
    },
    {
     "name": "stdout",
     "output_type": "stream",
     "text": [
      "Took 28.262392044067383 seconds to skull strip\n",
      "Skull stripping patient#: 140\n"
     ]
    },
    {
     "name": "stderr",
     "output_type": "stream",
     "text": [
      " 53%|████████████████████████████████████████                                   | 140/262 [52:34<1:01:04, 30.03s/it]"
     ]
    },
    {
     "name": "stdout",
     "output_type": "stream",
     "text": [
      "Took 28.39197826385498 seconds to skull strip\n",
      "Skull stripping patient#: 141\n"
     ]
    },
    {
     "name": "stderr",
     "output_type": "stream",
     "text": [
      " 54%|████████████████████████████████████████▎                                  | 141/262 [53:04<1:00:39, 30.08s/it]"
     ]
    },
    {
     "name": "stdout",
     "output_type": "stream",
     "text": [
      "Took 28.287598609924316 seconds to skull strip\n",
      "Skull stripping patient#: 142\n"
     ]
    },
    {
     "name": "stderr",
     "output_type": "stream",
     "text": [
      " 54%|█████████████████████████████████████████▋                                   | 142/262 [53:30<57:51, 28.93s/it]"
     ]
    },
    {
     "name": "stdout",
     "output_type": "stream",
     "text": [
      "Took 23.875975370407104 seconds to skull strip\n",
      "Skull stripping patient#: 143\n"
     ]
    },
    {
     "name": "stderr",
     "output_type": "stream",
     "text": [
      " 55%|██████████████████████████████████████████                                   | 143/262 [54:00<58:01, 29.26s/it]"
     ]
    },
    {
     "name": "stdout",
     "output_type": "stream",
     "text": [
      "Took 28.20537543296814 seconds to skull strip\n",
      "Skull stripping patient#: 144\n"
     ]
    },
    {
     "name": "stderr",
     "output_type": "stream",
     "text": [
      " 55%|██████████████████████████████████████████▎                                  | 144/262 [54:31<58:05, 29.54s/it]"
     ]
    },
    {
     "name": "stdout",
     "output_type": "stream",
     "text": [
      "Took 28.372040510177612 seconds to skull strip\n",
      "Skull stripping patient#: 145\n"
     ]
    },
    {
     "name": "stderr",
     "output_type": "stream",
     "text": [
      " 55%|██████████████████████████████████████████▌                                  | 145/262 [55:01<58:02, 29.77s/it]"
     ]
    },
    {
     "name": "stdout",
     "output_type": "stream",
     "text": [
      "Took 28.350780725479126 seconds to skull strip\n",
      "Skull stripping patient#: 146\n"
     ]
    },
    {
     "name": "stderr",
     "output_type": "stream",
     "text": [
      " 56%|██████████████████████████████████████████▉                                  | 146/262 [55:31<57:39, 29.82s/it]"
     ]
    },
    {
     "name": "stdout",
     "output_type": "stream",
     "text": [
      "Took 28.07395339012146 seconds to skull strip\n",
      "Skull stripping patient#: 147\n"
     ]
    },
    {
     "name": "stderr",
     "output_type": "stream",
     "text": [
      " 56%|███████████████████████████████████████████▏                                 | 147/262 [55:59<56:12, 29.33s/it]"
     ]
    },
    {
     "name": "stdout",
     "output_type": "stream",
     "text": [
      "Took 27.074917554855347 seconds to skull strip\n",
      "Skull stripping patient#: 148\n"
     ]
    },
    {
     "name": "stderr",
     "output_type": "stream",
     "text": [
      " 56%|███████████████████████████████████████████▍                                 | 148/262 [56:25<53:47, 28.31s/it]"
     ]
    },
    {
     "name": "stdout",
     "output_type": "stream",
     "text": [
      "Took 23.64711308479309 seconds to skull strip\n",
      "Skull stripping patient#: 149\n"
     ]
    },
    {
     "name": "stderr",
     "output_type": "stream",
     "text": [
      " 57%|███████████████████████████████████████████▊                                 | 149/262 [56:55<54:00, 28.68s/it]"
     ]
    },
    {
     "name": "stdout",
     "output_type": "stream",
     "text": [
      "Took 27.88781714439392 seconds to skull strip\n",
      "Skull stripping patient#: 150\n"
     ]
    },
    {
     "name": "stderr",
     "output_type": "stream",
     "text": [
      " 57%|████████████████████████████████████████████                                 | 150/262 [57:25<54:25, 29.16s/it]"
     ]
    },
    {
     "name": "stdout",
     "output_type": "stream",
     "text": [
      "Took 28.378321409225464 seconds to skull strip\n",
      "Skull stripping patient#: 151\n"
     ]
    },
    {
     "name": "stderr",
     "output_type": "stream",
     "text": [
      " 58%|████████████████████████████████████████████▍                                | 151/262 [57:55<54:32, 29.48s/it]"
     ]
    },
    {
     "name": "stdout",
     "output_type": "stream",
     "text": [
      "Took 28.372299194335938 seconds to skull strip\n",
      "Skull stripping patient#: 152\n"
     ]
    },
    {
     "name": "stderr",
     "output_type": "stream",
     "text": [
      " 58%|████████████████████████████████████████████▋                                | 152/262 [58:25<54:24, 29.68s/it]"
     ]
    },
    {
     "name": "stdout",
     "output_type": "stream",
     "text": [
      "Took 28.36119270324707 seconds to skull strip\n",
      "Skull stripping patient#: 153\n"
     ]
    },
    {
     "name": "stderr",
     "output_type": "stream",
     "text": [
      " 58%|████████████████████████████████████████████▉                                | 153/262 [58:56<54:39, 30.09s/it]"
     ]
    },
    {
     "name": "stdout",
     "output_type": "stream",
     "text": [
      "Took 28.434157133102417 seconds to skull strip\n",
      "Skull stripping patient#: 154\n"
     ]
    },
    {
     "name": "stderr",
     "output_type": "stream",
     "text": [
      " 59%|█████████████████████████████████████████████▎                               | 154/262 [59:27<54:20, 30.19s/it]"
     ]
    },
    {
     "name": "stdout",
     "output_type": "stream",
     "text": [
      "Took 28.552216291427612 seconds to skull strip\n",
      "Skull stripping patient#: 155\n"
     ]
    },
    {
     "name": "stderr",
     "output_type": "stream",
     "text": [
      " 59%|█████████████████████████████████████████████▌                               | 155/262 [59:57<53:45, 30.14s/it]"
     ]
    },
    {
     "name": "stdout",
     "output_type": "stream",
     "text": [
      "Took 28.10806155204773 seconds to skull strip\n",
      "Skull stripping patient#: 156\n"
     ]
    },
    {
     "name": "stderr",
     "output_type": "stream",
     "text": [
      " 60%|████████████████████████████████████████████▋                              | 156/262 [1:00:27<53:07, 30.07s/it]"
     ]
    },
    {
     "name": "stdout",
     "output_type": "stream",
     "text": [
      "Took 28.00835943222046 seconds to skull strip\n",
      "Skull stripping patient#: 157\n"
     ]
    },
    {
     "name": "stderr",
     "output_type": "stream",
     "text": [
      " 60%|████████████████████████████████████████████▉                              | 157/262 [1:00:57<52:34, 30.04s/it]"
     ]
    },
    {
     "name": "stdout",
     "output_type": "stream",
     "text": [
      "Took 28.132078886032104 seconds to skull strip\n",
      "Skull stripping patient#: 158\n"
     ]
    },
    {
     "name": "stderr",
     "output_type": "stream",
     "text": [
      " 60%|█████████████████████████████████████████████▏                             | 158/262 [1:01:25<51:12, 29.54s/it]"
     ]
    },
    {
     "name": "stdout",
     "output_type": "stream",
     "text": [
      "Took 27.25606942176819 seconds to skull strip\n",
      "Skull stripping patient#: 159\n"
     ]
    },
    {
     "name": "stderr",
     "output_type": "stream",
     "text": [
      " 61%|█████████████████████████████████████████████▌                             | 159/262 [1:01:55<50:51, 29.63s/it]"
     ]
    },
    {
     "name": "stdout",
     "output_type": "stream",
     "text": [
      "Took 28.095330238342285 seconds to skull strip\n",
      "Skull stripping patient#: 160\n"
     ]
    },
    {
     "name": "stderr",
     "output_type": "stream",
     "text": [
      " 61%|█████████████████████████████████████████████▊                             | 160/262 [1:02:25<50:32, 29.73s/it]"
     ]
    },
    {
     "name": "stdout",
     "output_type": "stream",
     "text": [
      "Took 28.092047691345215 seconds to skull strip\n",
      "Skull stripping patient#: 161\n"
     ]
    },
    {
     "name": "stderr",
     "output_type": "stream",
     "text": [
      " 61%|██████████████████████████████████████████████                             | 161/262 [1:02:55<50:10, 29.81s/it]"
     ]
    },
    {
     "name": "stdout",
     "output_type": "stream",
     "text": [
      "Took 28.147736072540283 seconds to skull strip\n",
      "Skull stripping patient#: 162\n"
     ]
    },
    {
     "name": "stderr",
     "output_type": "stream",
     "text": [
      " 62%|██████████████████████████████████████████████▎                            | 162/262 [1:03:25<49:47, 29.87s/it]"
     ]
    },
    {
     "name": "stdout",
     "output_type": "stream",
     "text": [
      "Took 28.16091752052307 seconds to skull strip\n",
      "Skull stripping patient#: 163\n"
     ]
    },
    {
     "name": "stderr",
     "output_type": "stream",
     "text": [
      " 62%|██████████████████████████████████████████████▋                            | 163/262 [1:03:55<49:13, 29.83s/it]"
     ]
    },
    {
     "name": "stdout",
     "output_type": "stream",
     "text": [
      "Took 28.11333703994751 seconds to skull strip\n",
      "Skull stripping patient#: 164\n"
     ]
    },
    {
     "name": "stderr",
     "output_type": "stream",
     "text": [
      " 63%|██████████████████████████████████████████████▉                            | 164/262 [1:04:21<46:54, 28.72s/it]"
     ]
    },
    {
     "name": "stdout",
     "output_type": "stream",
     "text": [
      "Took 23.657244205474854 seconds to skull strip\n",
      "Skull stripping patient#: 165\n"
     ]
    },
    {
     "name": "stderr",
     "output_type": "stream",
     "text": [
      " 63%|███████████████████████████████████████████████▏                           | 165/262 [1:04:51<47:04, 29.12s/it]"
     ]
    },
    {
     "name": "stdout",
     "output_type": "stream",
     "text": [
      "Took 28.228447675704956 seconds to skull strip\n",
      "Skull stripping patient#: 166\n"
     ]
    },
    {
     "name": "stderr",
     "output_type": "stream",
     "text": [
      " 63%|███████████████████████████████████████████████▌                           | 166/262 [1:05:21<47:00, 29.38s/it]"
     ]
    },
    {
     "name": "stdout",
     "output_type": "stream",
     "text": [
      "Took 28.169860124588013 seconds to skull strip\n",
      "Skull stripping patient#: 167\n"
     ]
    },
    {
     "name": "stderr",
     "output_type": "stream",
     "text": [
      " 64%|███████████████████████████████████████████████▊                           | 167/262 [1:05:51<46:43, 29.51s/it]"
     ]
    },
    {
     "name": "stdout",
     "output_type": "stream",
     "text": [
      "Took 28.01299810409546 seconds to skull strip\n",
      "Skull stripping patient#: 168\n"
     ]
    },
    {
     "name": "stderr",
     "output_type": "stream",
     "text": [
      " 64%|████████████████████████████████████████████████                           | 168/262 [1:06:18<45:23, 28.97s/it]"
     ]
    },
    {
     "name": "stdout",
     "output_type": "stream",
     "text": [
      "Took 26.79005742073059 seconds to skull strip\n",
      "Skull stripping patient#: 169\n"
     ]
    },
    {
     "name": "stderr",
     "output_type": "stream",
     "text": [
      " 65%|████████████████████████████████████████████████▍                          | 169/262 [1:06:48<45:27, 29.33s/it]"
     ]
    },
    {
     "name": "stdout",
     "output_type": "stream",
     "text": [
      "Took 28.31689214706421 seconds to skull strip\n",
      "Skull stripping patient#: 170\n"
     ]
    },
    {
     "name": "stderr",
     "output_type": "stream",
     "text": [
      " 65%|████████████████████████████████████████████████▋                          | 170/262 [1:07:19<45:21, 29.58s/it]"
     ]
    },
    {
     "name": "stdout",
     "output_type": "stream",
     "text": [
      "Took 28.230456829071045 seconds to skull strip\n",
      "Skull stripping patient#: 171\n"
     ]
    },
    {
     "name": "stderr",
     "output_type": "stream",
     "text": [
      " 65%|████████████████████████████████████████████████▉                          | 171/262 [1:07:47<44:13, 29.16s/it]"
     ]
    },
    {
     "name": "stdout",
     "output_type": "stream",
     "text": [
      "Took 27.209733963012695 seconds to skull strip\n",
      "Skull stripping patient#: 172\n"
     ]
    },
    {
     "name": "stderr",
     "output_type": "stream",
     "text": [
      " 66%|█████████████████████████████████████████████████▏                         | 172/262 [1:08:12<41:52, 27.92s/it]"
     ]
    },
    {
     "name": "stdout",
     "output_type": "stream",
     "text": [
      "Took 23.214317798614502 seconds to skull strip\n",
      "Skull stripping patient#: 173\n"
     ]
    },
    {
     "name": "stderr",
     "output_type": "stream",
     "text": [
      " 66%|█████████████████████████████████████████████████▌                         | 173/262 [1:08:42<42:18, 28.53s/it]"
     ]
    },
    {
     "name": "stdout",
     "output_type": "stream",
     "text": [
      "Took 28.12308382987976 seconds to skull strip\n",
      "Skull stripping patient#: 174\n"
     ]
    },
    {
     "name": "stderr",
     "output_type": "stream",
     "text": [
      " 66%|█████████████████████████████████████████████████▊                         | 174/262 [1:09:11<42:22, 28.89s/it]"
     ]
    },
    {
     "name": "stdout",
     "output_type": "stream",
     "text": [
      "Took 28.075233936309814 seconds to skull strip\n",
      "Skull stripping patient#: 175\n"
     ]
    },
    {
     "name": "stderr",
     "output_type": "stream",
     "text": [
      " 67%|██████████████████████████████████████████████████                         | 175/262 [1:09:42<42:27, 29.28s/it]"
     ]
    },
    {
     "name": "stdout",
     "output_type": "stream",
     "text": [
      "Took 28.34563708305359 seconds to skull strip\n",
      "Skull stripping patient#: 176\n"
     ]
    },
    {
     "name": "stderr",
     "output_type": "stream",
     "text": [
      " 67%|██████████████████████████████████████████████████▍                        | 176/262 [1:10:13<42:58, 29.98s/it]"
     ]
    },
    {
     "name": "stdout",
     "output_type": "stream",
     "text": [
      "Took 28.864473819732666 seconds to skull strip\n",
      "Skull stripping patient#: 177\n"
     ]
    },
    {
     "name": "stderr",
     "output_type": "stream",
     "text": [
      " 68%|██████████████████████████████████████████████████▋                        | 177/262 [1:10:46<43:31, 30.72s/it]"
     ]
    },
    {
     "name": "stdout",
     "output_type": "stream",
     "text": [
      "Took 29.4295175075531 seconds to skull strip\n",
      "Skull stripping patient#: 178\n"
     ]
    },
    {
     "name": "stderr",
     "output_type": "stream",
     "text": [
      " 68%|██████████████████████████████████████████████████▉                        | 178/262 [1:11:12<40:59, 29.28s/it]"
     ]
    },
    {
     "name": "stdout",
     "output_type": "stream",
     "text": [
      "Took 23.179276943206787 seconds to skull strip\n",
      "Skull stripping patient#: 179\n"
     ]
    },
    {
     "name": "stderr",
     "output_type": "stream",
     "text": [
      " 68%|███████████████████████████████████████████████████▏                       | 179/262 [1:11:41<40:37, 29.37s/it]"
     ]
    },
    {
     "name": "stdout",
     "output_type": "stream",
     "text": [
      "Took 27.772553205490112 seconds to skull strip\n",
      "Skull stripping patient#: 180\n"
     ]
    },
    {
     "name": "stderr",
     "output_type": "stream",
     "text": [
      " 69%|███████████████████████████████████████████████████▌                       | 180/262 [1:12:07<38:49, 28.40s/it]"
     ]
    },
    {
     "name": "stdout",
     "output_type": "stream",
     "text": [
      "Took 23.786630868911743 seconds to skull strip\n",
      "Skull stripping patient#: 181\n"
     ]
    },
    {
     "name": "stderr",
     "output_type": "stream",
     "text": [
      " 69%|███████████████████████████████████████████████████▊                       | 181/262 [1:12:38<39:05, 28.96s/it]"
     ]
    },
    {
     "name": "stdout",
     "output_type": "stream",
     "text": [
      "Took 28.262073040008545 seconds to skull strip\n",
      "Skull stripping patient#: 182\n"
     ]
    },
    {
     "name": "stderr",
     "output_type": "stream",
     "text": [
      " 69%|████████████████████████████████████████████████████                       | 182/262 [1:13:08<39:00, 29.26s/it]"
     ]
    },
    {
     "name": "stdout",
     "output_type": "stream",
     "text": [
      "Took 28.112800359725952 seconds to skull strip\n",
      "Skull stripping patient#: 183\n"
     ]
    },
    {
     "name": "stderr",
     "output_type": "stream",
     "text": [
      " 70%|████████████████████████████████████████████████████▍                      | 183/262 [1:13:34<37:20, 28.36s/it]"
     ]
    },
    {
     "name": "stdout",
     "output_type": "stream",
     "text": [
      "Took 23.739691734313965 seconds to skull strip\n",
      "Skull stripping patient#: 184\n"
     ]
    },
    {
     "name": "stderr",
     "output_type": "stream",
     "text": [
      " 70%|████████████████████████████████████████████████████▋                      | 184/262 [1:14:04<37:28, 28.82s/it]"
     ]
    },
    {
     "name": "stdout",
     "output_type": "stream",
     "text": [
      "Took 28.13844347000122 seconds to skull strip\n",
      "Skull stripping patient#: 185\n"
     ]
    },
    {
     "name": "stderr",
     "output_type": "stream",
     "text": [
      " 71%|████████████████████████████████████████████████████▉                      | 185/262 [1:14:34<37:34, 29.28s/it]"
     ]
    },
    {
     "name": "stdout",
     "output_type": "stream",
     "text": [
      "Took 28.255821228027344 seconds to skull strip\n",
      "Skull stripping patient#: 186\n"
     ]
    },
    {
     "name": "stderr",
     "output_type": "stream",
     "text": [
      " 71%|█████████████████████████████████████████████████████▏                     | 186/262 [1:15:05<37:37, 29.71s/it]"
     ]
    },
    {
     "name": "stdout",
     "output_type": "stream",
     "text": [
      "Took 28.35136890411377 seconds to skull strip\n",
      "Skull stripping patient#: 187\n"
     ]
    },
    {
     "name": "stderr",
     "output_type": "stream",
     "text": [
      " 71%|█████████████████████████████████████████████████████▌                     | 187/262 [1:15:35<37:22, 29.90s/it]"
     ]
    },
    {
     "name": "stdout",
     "output_type": "stream",
     "text": [
      "Took 28.368067979812622 seconds to skull strip\n",
      "Skull stripping patient#: 188\n"
     ]
    },
    {
     "name": "stderr",
     "output_type": "stream",
     "text": [
      " 72%|█████████████████████████████████████████████████████▊                     | 188/262 [1:16:05<37:02, 30.04s/it]"
     ]
    },
    {
     "name": "stdout",
     "output_type": "stream",
     "text": [
      "Took 28.21824336051941 seconds to skull strip\n",
      "Skull stripping patient#: 189\n"
     ]
    },
    {
     "name": "stderr",
     "output_type": "stream",
     "text": [
      " 72%|██████████████████████████████████████████████████████                     | 189/262 [1:16:34<35:55, 29.52s/it]"
     ]
    },
    {
     "name": "stdout",
     "output_type": "stream",
     "text": [
      "Took 27.15874481201172 seconds to skull strip\n",
      "Skull stripping patient#: 190\n"
     ]
    },
    {
     "name": "stderr",
     "output_type": "stream",
     "text": [
      " 73%|██████████████████████████████████████████████████████▍                    | 190/262 [1:17:04<35:44, 29.79s/it]"
     ]
    },
    {
     "name": "stdout",
     "output_type": "stream",
     "text": [
      "Took 28.440802335739136 seconds to skull strip\n",
      "Skull stripping patient#: 191\n"
     ]
    },
    {
     "name": "stderr",
     "output_type": "stream",
     "text": [
      " 73%|██████████████████████████████████████████████████████▋                    | 191/262 [1:17:35<35:29, 29.99s/it]"
     ]
    },
    {
     "name": "stdout",
     "output_type": "stream",
     "text": [
      "Took 28.432629346847534 seconds to skull strip\n",
      "Skull stripping patient#: 192\n"
     ]
    },
    {
     "name": "stderr",
     "output_type": "stream",
     "text": [
      " 73%|██████████████████████████████████████████████████████▉                    | 192/262 [1:18:04<34:38, 29.69s/it]"
     ]
    },
    {
     "name": "stdout",
     "output_type": "stream",
     "text": [
      "Took 27.209555864334106 seconds to skull strip\n",
      "Skull stripping patient#: 193\n"
     ]
    },
    {
     "name": "stderr",
     "output_type": "stream",
     "text": [
      " 74%|███████████████████████████████████████████████████████▏                   | 193/262 [1:18:34<34:22, 29.89s/it]"
     ]
    },
    {
     "name": "stdout",
     "output_type": "stream",
     "text": [
      "Took 28.249966144561768 seconds to skull strip\n",
      "Skull stripping patient#: 194\n"
     ]
    },
    {
     "name": "stderr",
     "output_type": "stream",
     "text": [
      " 74%|███████████████████████████████████████████████████████▌                   | 194/262 [1:19:04<34:01, 30.02s/it]"
     ]
    },
    {
     "name": "stdout",
     "output_type": "stream",
     "text": [
      "Took 28.35999083518982 seconds to skull strip\n",
      "Skull stripping patient#: 195\n"
     ]
    },
    {
     "name": "stderr",
     "output_type": "stream",
     "text": [
      " 74%|███████████████████████████████████████████████████████▊                   | 195/262 [1:19:35<33:38, 30.13s/it]"
     ]
    },
    {
     "name": "stdout",
     "output_type": "stream",
     "text": [
      "Took 28.230855703353882 seconds to skull strip\n",
      "Skull stripping patient#: 196\n"
     ]
    },
    {
     "name": "stderr",
     "output_type": "stream",
     "text": [
      " 75%|████████████████████████████████████████████████████████                   | 196/262 [1:20:05<33:09, 30.15s/it]"
     ]
    },
    {
     "name": "stdout",
     "output_type": "stream",
     "text": [
      "Took 28.295939207077026 seconds to skull strip\n",
      "Skull stripping patient#: 197\n"
     ]
    },
    {
     "name": "stderr",
     "output_type": "stream",
     "text": [
      " 75%|████████████████████████████████████████████████████████▍                  | 197/262 [1:20:35<32:38, 30.14s/it]"
     ]
    },
    {
     "name": "stdout",
     "output_type": "stream",
     "text": [
      "Took 28.272027254104614 seconds to skull strip\n",
      "Skull stripping patient#: 198\n"
     ]
    },
    {
     "name": "stderr",
     "output_type": "stream",
     "text": [
      " 76%|████████████████████████████████████████████████████████▋                  | 198/262 [1:21:01<30:50, 28.92s/it]"
     ]
    },
    {
     "name": "stdout",
     "output_type": "stream",
     "text": [
      "Took 23.559659719467163 seconds to skull strip\n",
      "Skull stripping patient#: 199\n"
     ]
    },
    {
     "name": "stderr",
     "output_type": "stream",
     "text": [
      " 76%|████████████████████████████████████████████████████████▉                  | 199/262 [1:21:32<30:52, 29.40s/it]"
     ]
    },
    {
     "name": "stdout",
     "output_type": "stream",
     "text": [
      "Took 28.429758548736572 seconds to skull strip\n",
      "Skull stripping patient#: 200\n"
     ]
    },
    {
     "name": "stderr",
     "output_type": "stream",
     "text": [
      " 76%|█████████████████████████████████████████████████████████▎                 | 200/262 [1:22:01<30:31, 29.54s/it]"
     ]
    },
    {
     "name": "stdout",
     "output_type": "stream",
     "text": [
      "Took 28.090352535247803 seconds to skull strip\n",
      "Skull stripping patient#: 201\n"
     ]
    },
    {
     "name": "stderr",
     "output_type": "stream",
     "text": [
      " 77%|█████████████████████████████████████████████████████████▌                 | 201/262 [1:22:30<29:34, 29.10s/it]"
     ]
    },
    {
     "name": "stdout",
     "output_type": "stream",
     "text": [
      "Took 26.954156637191772 seconds to skull strip\n",
      "Skull stripping patient#: 202\n"
     ]
    },
    {
     "name": "stderr",
     "output_type": "stream",
     "text": [
      " 77%|█████████████████████████████████████████████████████████▊                 | 202/262 [1:23:00<29:28, 29.48s/it]"
     ]
    },
    {
     "name": "stdout",
     "output_type": "stream",
     "text": [
      "Took 28.345271348953247 seconds to skull strip\n",
      "Skull stripping patient#: 203\n"
     ]
    },
    {
     "name": "stderr",
     "output_type": "stream",
     "text": [
      " 77%|██████████████████████████████████████████████████████████                 | 203/262 [1:23:30<29:12, 29.70s/it]"
     ]
    },
    {
     "name": "stdout",
     "output_type": "stream",
     "text": [
      "Took 28.352461338043213 seconds to skull strip\n",
      "Skull stripping patient#: 204\n"
     ]
    },
    {
     "name": "stderr",
     "output_type": "stream",
     "text": [
      " 78%|██████████████████████████████████████████████████████████▍                | 204/262 [1:24:00<28:43, 29.72s/it]"
     ]
    },
    {
     "name": "stdout",
     "output_type": "stream",
     "text": [
      "Took 27.970200538635254 seconds to skull strip\n",
      "Skull stripping patient#: 205\n"
     ]
    },
    {
     "name": "stderr",
     "output_type": "stream",
     "text": [
      " 78%|██████████████████████████████████████████████████████████▋                | 205/262 [1:24:28<27:50, 29.30s/it]"
     ]
    },
    {
     "name": "stdout",
     "output_type": "stream",
     "text": [
      "Took 27.17841601371765 seconds to skull strip\n",
      "Skull stripping patient#: 206\n"
     ]
    },
    {
     "name": "stderr",
     "output_type": "stream",
     "text": [
      " 79%|██████████████████████████████████████████████████████████▉                | 206/262 [1:24:57<27:05, 29.02s/it]"
     ]
    },
    {
     "name": "stdout",
     "output_type": "stream",
     "text": [
      "Took 27.207103729248047 seconds to skull strip\n",
      "Skull stripping patient#: 207\n"
     ]
    },
    {
     "name": "stderr",
     "output_type": "stream",
     "text": [
      " 79%|███████████████████████████████████████████████████████████▎               | 207/262 [1:25:27<26:55, 29.37s/it]"
     ]
    },
    {
     "name": "stdout",
     "output_type": "stream",
     "text": [
      "Took 28.24215030670166 seconds to skull strip\n",
      "Skull stripping patient#: 208\n"
     ]
    },
    {
     "name": "stderr",
     "output_type": "stream",
     "text": [
      " 79%|███████████████████████████████████████████████████████████▌               | 208/262 [1:25:57<26:42, 29.67s/it]"
     ]
    },
    {
     "name": "stdout",
     "output_type": "stream",
     "text": [
      "Took 28.34636616706848 seconds to skull strip\n",
      "Skull stripping patient#: 209\n"
     ]
    },
    {
     "name": "stderr",
     "output_type": "stream",
     "text": [
      " 80%|███████████████████████████████████████████████████████████▊               | 209/262 [1:26:27<26:21, 29.84s/it]"
     ]
    },
    {
     "name": "stdout",
     "output_type": "stream",
     "text": [
      "Took 28.361353874206543 seconds to skull strip\n",
      "Skull stripping patient#: 210\n"
     ]
    },
    {
     "name": "stderr",
     "output_type": "stream",
     "text": [
      " 80%|████████████████████████████████████████████████████████████               | 210/262 [1:26:57<25:46, 29.75s/it]"
     ]
    },
    {
     "name": "stdout",
     "output_type": "stream",
     "text": [
      "Took 27.830652236938477 seconds to skull strip\n",
      "Skull stripping patient#: 211\n"
     ]
    },
    {
     "name": "stderr",
     "output_type": "stream",
     "text": [
      " 81%|████████████████████████████████████████████████████████████▍              | 211/262 [1:27:27<25:29, 29.99s/it]"
     ]
    },
    {
     "name": "stdout",
     "output_type": "stream",
     "text": [
      "Took 28.2956223487854 seconds to skull strip\n",
      "Skull stripping patient#: 212\n"
     ]
    },
    {
     "name": "stderr",
     "output_type": "stream",
     "text": [
      " 81%|████████████████████████████████████████████████████████████▋              | 212/262 [1:27:57<24:59, 30.00s/it]"
     ]
    },
    {
     "name": "stdout",
     "output_type": "stream",
     "text": [
      "Took 27.98841881752014 seconds to skull strip\n",
      "Skull stripping patient#: 213\n"
     ]
    },
    {
     "name": "stderr",
     "output_type": "stream",
     "text": [
      " 81%|████████████████████████████████████████████████████████████▉              | 213/262 [1:28:28<24:31, 30.04s/it]"
     ]
    },
    {
     "name": "stdout",
     "output_type": "stream",
     "text": [
      "Took 28.107784748077393 seconds to skull strip\n",
      "Skull stripping patient#: 214\n"
     ]
    },
    {
     "name": "stderr",
     "output_type": "stream",
     "text": [
      " 82%|█████████████████████████████████████████████████████████████▎             | 214/262 [1:28:56<23:35, 29.49s/it]"
     ]
    },
    {
     "name": "stdout",
     "output_type": "stream",
     "text": [
      "Took 27.094719171524048 seconds to skull strip\n",
      "Skull stripping patient#: 215\n"
     ]
    },
    {
     "name": "stderr",
     "output_type": "stream",
     "text": [
      " 82%|█████████████████████████████████████████████████████████████▌             | 215/262 [1:29:26<23:15, 29.69s/it]"
     ]
    },
    {
     "name": "stdout",
     "output_type": "stream",
     "text": [
      "Took 28.256974697113037 seconds to skull strip\n",
      "Skull stripping patient#: 216\n"
     ]
    },
    {
     "name": "stderr",
     "output_type": "stream",
     "text": [
      " 82%|█████████████████████████████████████████████████████████████▊             | 216/262 [1:29:57<22:57, 29.95s/it]"
     ]
    },
    {
     "name": "stdout",
     "output_type": "stream",
     "text": [
      "Took 28.447948932647705 seconds to skull strip\n",
      "Skull stripping patient#: 217\n"
     ]
    },
    {
     "name": "stderr",
     "output_type": "stream",
     "text": [
      " 83%|██████████████████████████████████████████████████████████████             | 217/262 [1:30:25<22:07, 29.51s/it]"
     ]
    },
    {
     "name": "stdout",
     "output_type": "stream",
     "text": [
      "Took 27.326637744903564 seconds to skull strip\n",
      "Skull stripping patient#: 218\n"
     ]
    },
    {
     "name": "stderr",
     "output_type": "stream",
     "text": [
      " 83%|██████████████████████████████████████████████████████████████▍            | 218/262 [1:30:55<21:46, 29.70s/it]"
     ]
    },
    {
     "name": "stdout",
     "output_type": "stream",
     "text": [
      "Took 28.243099212646484 seconds to skull strip\n",
      "Skull stripping patient#: 219\n"
     ]
    },
    {
     "name": "stderr",
     "output_type": "stream",
     "text": [
      " 84%|██████████████████████████████████████████████████████████████▋            | 219/262 [1:31:26<21:28, 29.96s/it]"
     ]
    },
    {
     "name": "stdout",
     "output_type": "stream",
     "text": [
      "Took 28.42758870124817 seconds to skull strip\n",
      "Skull stripping patient#: 220\n"
     ]
    },
    {
     "name": "stderr",
     "output_type": "stream",
     "text": [
      " 84%|██████████████████████████████████████████████████████████████▉            | 220/262 [1:31:56<21:02, 30.06s/it]"
     ]
    },
    {
     "name": "stdout",
     "output_type": "stream",
     "text": [
      "Took 28.297126293182373 seconds to skull strip\n",
      "Skull stripping patient#: 221\n"
     ]
    },
    {
     "name": "stderr",
     "output_type": "stream",
     "text": [
      " 84%|███████████████████████████████████████████████████████████████▎           | 221/262 [1:32:26<20:35, 30.14s/it]"
     ]
    },
    {
     "name": "stdout",
     "output_type": "stream",
     "text": [
      "Took 28.276670455932617 seconds to skull strip\n",
      "Skull stripping patient#: 222\n"
     ]
    },
    {
     "name": "stderr",
     "output_type": "stream",
     "text": [
      " 85%|███████████████████████████████████████████████████████████████▌           | 222/262 [1:32:57<20:06, 30.15s/it]"
     ]
    },
    {
     "name": "stdout",
     "output_type": "stream",
     "text": [
      "Took 28.254871606826782 seconds to skull strip\n",
      "Skull stripping patient#: 223\n"
     ]
    },
    {
     "name": "stderr",
     "output_type": "stream",
     "text": [
      " 85%|███████████████████████████████████████████████████████████████▊           | 223/262 [1:33:27<19:33, 30.09s/it]"
     ]
    },
    {
     "name": "stdout",
     "output_type": "stream",
     "text": [
      "Took 28.107825756072998 seconds to skull strip\n",
      "Skull stripping patient#: 224\n"
     ]
    },
    {
     "name": "stderr",
     "output_type": "stream",
     "text": [
      " 85%|████████████████████████████████████████████████████████████████           | 224/262 [1:33:57<19:08, 30.23s/it]"
     ]
    },
    {
     "name": "stdout",
     "output_type": "stream",
     "text": [
      "Took 28.517613887786865 seconds to skull strip\n",
      "Skull stripping patient#: 225\n"
     ]
    },
    {
     "name": "stderr",
     "output_type": "stream",
     "text": [
      " 86%|████████████████████████████████████████████████████████████████▍          | 225/262 [1:34:28<18:44, 30.40s/it]"
     ]
    },
    {
     "name": "stdout",
     "output_type": "stream",
     "text": [
      "Took 28.554447650909424 seconds to skull strip\n",
      "Skull stripping patient#: 226\n"
     ]
    },
    {
     "name": "stderr",
     "output_type": "stream",
     "text": [
      " 86%|████████████████████████████████████████████████████████████████▋          | 226/262 [1:34:59<18:17, 30.48s/it]"
     ]
    },
    {
     "name": "stdout",
     "output_type": "stream",
     "text": [
      "Took 28.503957986831665 seconds to skull strip\n",
      "Skull stripping patient#: 227\n"
     ]
    },
    {
     "name": "stderr",
     "output_type": "stream",
     "text": [
      " 87%|████████████████████████████████████████████████████████████████▉          | 227/262 [1:35:29<17:49, 30.55s/it]"
     ]
    },
    {
     "name": "stdout",
     "output_type": "stream",
     "text": [
      "Took 28.492748260498047 seconds to skull strip\n",
      "Skull stripping patient#: 228\n"
     ]
    },
    {
     "name": "stderr",
     "output_type": "stream",
     "text": [
      " 87%|█████████████████████████████████████████████████████████████████▎         | 228/262 [1:35:59<17:15, 30.46s/it]"
     ]
    },
    {
     "name": "stdout",
     "output_type": "stream",
     "text": [
      "Took 28.26099181175232 seconds to skull strip\n",
      "Skull stripping patient#: 229\n"
     ]
    },
    {
     "name": "stderr",
     "output_type": "stream",
     "text": [
      " 87%|█████████████████████████████████████████████████████████████████▌         | 229/262 [1:36:30<16:44, 30.44s/it]"
     ]
    },
    {
     "name": "stdout",
     "output_type": "stream",
     "text": [
      "Took 28.4065158367157 seconds to skull strip\n",
      "Skull stripping patient#: 230\n"
     ]
    },
    {
     "name": "stderr",
     "output_type": "stream",
     "text": [
      " 88%|█████████████████████████████████████████████████████████████████▊         | 230/262 [1:37:00<16:11, 30.37s/it]"
     ]
    },
    {
     "name": "stdout",
     "output_type": "stream",
     "text": [
      "Took 28.28447937965393 seconds to skull strip\n",
      "Skull stripping patient#: 231\n"
     ]
    },
    {
     "name": "stderr",
     "output_type": "stream",
     "text": [
      " 88%|██████████████████████████████████████████████████████████████████▏        | 231/262 [1:37:31<15:43, 30.44s/it]"
     ]
    },
    {
     "name": "stdout",
     "output_type": "stream",
     "text": [
      "Took 28.61046862602234 seconds to skull strip\n",
      "Skull stripping patient#: 232\n"
     ]
    },
    {
     "name": "stderr",
     "output_type": "stream",
     "text": [
      " 89%|██████████████████████████████████████████████████████████████████▍        | 232/262 [1:38:01<15:11, 30.40s/it]"
     ]
    },
    {
     "name": "stdout",
     "output_type": "stream",
     "text": [
      "Took 28.388046741485596 seconds to skull strip\n",
      "Skull stripping patient#: 233\n"
     ]
    },
    {
     "name": "stderr",
     "output_type": "stream",
     "text": [
      " 89%|██████████████████████████████████████████████████████████████████▋        | 233/262 [1:38:32<14:44, 30.50s/it]"
     ]
    },
    {
     "name": "stdout",
     "output_type": "stream",
     "text": [
      "Took 28.709321975708008 seconds to skull strip\n",
      "Skull stripping patient#: 234\n"
     ]
    },
    {
     "name": "stderr",
     "output_type": "stream",
     "text": [
      " 89%|██████████████████████████████████████████████████████████████████▉        | 234/262 [1:39:02<14:11, 30.40s/it]"
     ]
    },
    {
     "name": "stdout",
     "output_type": "stream",
     "text": [
      "Took 28.26657748222351 seconds to skull strip\n",
      "Skull stripping patient#: 235\n"
     ]
    },
    {
     "name": "stderr",
     "output_type": "stream",
     "text": [
      " 90%|███████████████████████████████████████████████████████████████████▎       | 235/262 [1:39:32<13:37, 30.26s/it]"
     ]
    },
    {
     "name": "stdout",
     "output_type": "stream",
     "text": [
      "Took 28.144725799560547 seconds to skull strip\n",
      "Skull stripping patient#: 236\n"
     ]
    },
    {
     "name": "stderr",
     "output_type": "stream",
     "text": [
      " 90%|███████████████████████████████████████████████████████████████████▌       | 236/262 [1:40:02<13:06, 30.26s/it]"
     ]
    },
    {
     "name": "stdout",
     "output_type": "stream",
     "text": [
      "Took 28.259611129760742 seconds to skull strip\n",
      "Skull stripping patient#: 237\n"
     ]
    },
    {
     "name": "stderr",
     "output_type": "stream",
     "text": [
      " 90%|███████████████████████████████████████████████████████████████████▊       | 237/262 [1:40:33<12:38, 30.35s/it]"
     ]
    },
    {
     "name": "stdout",
     "output_type": "stream",
     "text": [
      "Took 28.595760583877563 seconds to skull strip\n",
      "Skull stripping patient#: 238\n"
     ]
    },
    {
     "name": "stderr",
     "output_type": "stream",
     "text": [
      " 91%|████████████████████████████████████████████████████████████████████▏      | 238/262 [1:41:03<12:09, 30.41s/it]"
     ]
    },
    {
     "name": "stdout",
     "output_type": "stream",
     "text": [
      "Took 28.47352695465088 seconds to skull strip\n",
      "Skull stripping patient#: 239\n"
     ]
    },
    {
     "name": "stderr",
     "output_type": "stream",
     "text": [
      " 91%|████████████████████████████████████████████████████████████████████▍      | 239/262 [1:41:33<11:38, 30.36s/it]"
     ]
    },
    {
     "name": "stdout",
     "output_type": "stream",
     "text": [
      "Took 28.324103355407715 seconds to skull strip\n",
      "Skull stripping patient#: 240\n"
     ]
    },
    {
     "name": "stderr",
     "output_type": "stream",
     "text": [
      " 92%|████████████████████████████████████████████████████████████████████▋      | 240/262 [1:42:04<11:11, 30.50s/it]"
     ]
    },
    {
     "name": "stdout",
     "output_type": "stream",
     "text": [
      "Took 28.764721870422363 seconds to skull strip\n",
      "Skull stripping patient#: 241\n"
     ]
    },
    {
     "name": "stderr",
     "output_type": "stream",
     "text": [
      " 92%|████████████████████████████████████████████████████████████████████▉      | 241/262 [1:42:35<10:40, 30.51s/it]"
     ]
    },
    {
     "name": "stdout",
     "output_type": "stream",
     "text": [
      "Took 28.377341747283936 seconds to skull strip\n",
      "Skull stripping patient#: 242\n"
     ]
    },
    {
     "name": "stderr",
     "output_type": "stream",
     "text": [
      " 92%|█████████████████████████████████████████████████████████████████████▎     | 242/262 [1:43:03<09:58, 29.94s/it]"
     ]
    },
    {
     "name": "stdout",
     "output_type": "stream",
     "text": [
      "Took 27.261531114578247 seconds to skull strip\n",
      "Skull stripping patient#: 243\n"
     ]
    },
    {
     "name": "stderr",
     "output_type": "stream",
     "text": [
      " 93%|█████████████████████████████████████████████████████████████████████▌     | 243/262 [1:43:30<09:09, 28.94s/it]"
     ]
    },
    {
     "name": "stdout",
     "output_type": "stream",
     "text": [
      "Took 23.86976456642151 seconds to skull strip\n",
      "Skull stripping patient#: 244\n"
     ]
    },
    {
     "name": "stderr",
     "output_type": "stream",
     "text": [
      " 93%|█████████████████████████████████████████████████████████████████████▊     | 244/262 [1:44:00<08:48, 29.35s/it]"
     ]
    },
    {
     "name": "stdout",
     "output_type": "stream",
     "text": [
      "Took 28.351733922958374 seconds to skull strip\n",
      "Skull stripping patient#: 245\n"
     ]
    },
    {
     "name": "stderr",
     "output_type": "stream",
     "text": [
      " 94%|██████████████████████████████████████████████████████████████████████▏    | 245/262 [1:44:31<08:25, 29.72s/it]"
     ]
    },
    {
     "name": "stdout",
     "output_type": "stream",
     "text": [
      "Took 28.594760179519653 seconds to skull strip\n",
      "Skull stripping patient#: 246\n"
     ]
    },
    {
     "name": "stderr",
     "output_type": "stream",
     "text": [
      " 94%|██████████████████████████████████████████████████████████████████████▍    | 246/262 [1:44:59<07:48, 29.31s/it]"
     ]
    },
    {
     "name": "stdout",
     "output_type": "stream",
     "text": [
      "Took 27.2602596282959 seconds to skull strip\n",
      "Skull stripping patient#: 247\n"
     ]
    },
    {
     "name": "stderr",
     "output_type": "stream",
     "text": [
      " 94%|██████████████████████████████████████████████████████████████████████▋    | 247/262 [1:45:30<07:25, 29.70s/it]"
     ]
    },
    {
     "name": "stdout",
     "output_type": "stream",
     "text": [
      "Took 28.500709295272827 seconds to skull strip\n",
      "Skull stripping patient#: 248\n"
     ]
    },
    {
     "name": "stderr",
     "output_type": "stream",
     "text": [
      " 95%|██████████████████████████████████████████████████████████████████████▉    | 248/262 [1:46:00<06:58, 29.88s/it]"
     ]
    },
    {
     "name": "stdout",
     "output_type": "stream",
     "text": [
      "Took 28.443657875061035 seconds to skull strip\n",
      "Skull stripping patient#: 249\n"
     ]
    },
    {
     "name": "stderr",
     "output_type": "stream",
     "text": [
      " 95%|███████████████████████████████████████████████████████████████████████▎   | 249/262 [1:46:31<06:30, 30.04s/it]"
     ]
    },
    {
     "name": "stdout",
     "output_type": "stream",
     "text": [
      "Took 28.397629976272583 seconds to skull strip\n",
      "Skull stripping patient#: 250\n"
     ]
    },
    {
     "name": "stderr",
     "output_type": "stream",
     "text": [
      " 95%|███████████████████████████████████████████████████████████████████████▌   | 250/262 [1:47:01<06:03, 30.25s/it]"
     ]
    },
    {
     "name": "stdout",
     "output_type": "stream",
     "text": [
      "Took 28.61216711997986 seconds to skull strip\n",
      "Skull stripping patient#: 251\n"
     ]
    },
    {
     "name": "stderr",
     "output_type": "stream",
     "text": [
      " 96%|███████████████████████████████████████████████████████████████████████▊   | 251/262 [1:47:32<05:33, 30.36s/it]"
     ]
    },
    {
     "name": "stdout",
     "output_type": "stream",
     "text": [
      "Took 28.468913793563843 seconds to skull strip\n",
      "Skull stripping patient#: 252\n"
     ]
    },
    {
     "name": "stderr",
     "output_type": "stream",
     "text": [
      " 96%|████████████████████████████████████████████████████████████████████████▏  | 252/262 [1:48:02<05:03, 30.35s/it]"
     ]
    },
    {
     "name": "stdout",
     "output_type": "stream",
     "text": [
      "Took 28.46065902709961 seconds to skull strip\n",
      "Skull stripping patient#: 253\n"
     ]
    },
    {
     "name": "stderr",
     "output_type": "stream",
     "text": [
      " 97%|████████████████████████████████████████████████████████████████████████▍  | 253/262 [1:48:33<04:34, 30.51s/it]"
     ]
    },
    {
     "name": "stdout",
     "output_type": "stream",
     "text": [
      "Took 28.62491250038147 seconds to skull strip\n",
      "Skull stripping patient#: 254\n"
     ]
    },
    {
     "name": "stderr",
     "output_type": "stream",
     "text": [
      " 97%|████████████████████████████████████████████████████████████████████████▋  | 254/262 [1:49:00<03:56, 29.52s/it]"
     ]
    },
    {
     "name": "stdout",
     "output_type": "stream",
     "text": [
      "Took 24.472623348236084 seconds to skull strip\n",
      "Skull stripping patient#: 255\n"
     ]
    },
    {
     "name": "stderr",
     "output_type": "stream",
     "text": [
      " 97%|████████████████████████████████████████████████████████████████████████▉  | 255/262 [1:49:32<03:30, 30.02s/it]"
     ]
    },
    {
     "name": "stdout",
     "output_type": "stream",
     "text": [
      "Took 28.98862648010254 seconds to skull strip\n",
      "Skull stripping patient#: 256\n"
     ]
    },
    {
     "name": "stderr",
     "output_type": "stream",
     "text": [
      " 98%|█████████████████████████████████████████████████████████████████████████▎ | 256/262 [1:50:02<03:01, 30.22s/it]"
     ]
    },
    {
     "name": "stdout",
     "output_type": "stream",
     "text": [
      "Took 28.46641516685486 seconds to skull strip\n",
      "Skull stripping patient#: 257\n"
     ]
    },
    {
     "name": "stderr",
     "output_type": "stream",
     "text": [
      " 98%|█████████████████████████████████████████████████████████████████████████▌ | 257/262 [1:50:32<02:31, 30.22s/it]"
     ]
    },
    {
     "name": "stdout",
     "output_type": "stream",
     "text": [
      "Took 28.33998203277588 seconds to skull strip\n",
      "Skull stripping patient#: 258\n"
     ]
    },
    {
     "name": "stderr",
     "output_type": "stream",
     "text": [
      " 98%|█████████████████████████████████████████████████████████████████████████▊ | 258/262 [1:51:03<02:01, 30.26s/it]"
     ]
    },
    {
     "name": "stdout",
     "output_type": "stream",
     "text": [
      "Took 28.406938791275024 seconds to skull strip\n",
      "Skull stripping patient#: 259\n"
     ]
    },
    {
     "name": "stderr",
     "output_type": "stream",
     "text": [
      " 99%|██████████████████████████████████████████████████████████████████████████▏| 259/262 [1:51:33<01:31, 30.36s/it]"
     ]
    },
    {
     "name": "stdout",
     "output_type": "stream",
     "text": [
      "Took 28.51755380630493 seconds to skull strip\n",
      "Skull stripping patient#: 260\n"
     ]
    },
    {
     "name": "stderr",
     "output_type": "stream",
     "text": [
      " 99%|██████████████████████████████████████████████████████████████████████████▍| 260/262 [1:52:04<01:00, 30.38s/it]"
     ]
    },
    {
     "name": "stdout",
     "output_type": "stream",
     "text": [
      "Took 28.30572199821472 seconds to skull strip\n",
      "Skull stripping patient#: 261\n"
     ]
    },
    {
     "name": "stderr",
     "output_type": "stream",
     "text": [
      "100%|██████████████████████████████████████████████████████████████████████████▋| 261/262 [1:52:32<00:29, 29.68s/it]"
     ]
    },
    {
     "name": "stdout",
     "output_type": "stream",
     "text": [
      "Took 27.00075054168701 seconds to skull strip\n",
      "Skull stripping patient#: 262\n"
     ]
    },
    {
     "name": "stderr",
     "output_type": "stream",
     "text": [
      "100%|███████████████████████████████████████████████████████████████████████████| 262/262 [1:53:02<00:00, 25.89s/it]"
     ]
    },
    {
     "name": "stdout",
     "output_type": "stream",
     "text": [
      "Took 28.356168270111084 seconds to skull strip\n"
     ]
    },
    {
     "name": "stderr",
     "output_type": "stream",
     "text": [
      "\n"
     ]
    }
   ],
   "source": [
    "paths = zip(t1, t1c, t2, flair, pet)\n",
    "patientno = 1\n",
    "\n",
    "for t1_path, t1c_path, t2_path, flair_path, pet_path in zip(tqdm(t1), t1c, t2, flair, pet):\n",
    "    process_patient(t1_path, t1c_path, t2_path, flair_path, pet_path, patientno)\n",
    "    patientno += 1"
   ]
  },
  {
   "cell_type": "code",
   "execution_count": null,
   "id": "ec6abe77-dcdb-4252-9768-0222224e027b",
   "metadata": {},
   "outputs": [],
   "source": []
  }
 ],
 "metadata": {
  "kernelspec": {
   "display_name": "Python 3 (ipykernel)",
   "language": "python",
   "name": "python3"
  },
  "language_info": {
   "codemirror_mode": {
    "name": "ipython",
    "version": 3
   },
   "file_extension": ".py",
   "mimetype": "text/x-python",
   "name": "python",
   "nbconvert_exporter": "python",
   "pygments_lexer": "ipython3",
   "version": "3.10.12"
  }
 },
 "nbformat": 4,
 "nbformat_minor": 5
}
