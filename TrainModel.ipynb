{
 "cells": [
  {
   "cell_type": "markdown",
   "metadata": {},
   "source": [
    "# 1. Imports\n"
   ]
  },
  {
   "cell_type": "code",
   "execution_count": 1,
   "metadata": {},
   "outputs": [
    {
     "ename": "ModuleNotFoundError",
     "evalue": "No module named 'torch'",
     "output_type": "error",
     "traceback": [
      "\u001b[0;31m---------------------------------------------------------------------------\u001b[0m",
      "\u001b[0;31mModuleNotFoundError\u001b[0m                       Traceback (most recent call last)",
      "\u001b[1;32m/Volumes/DATA/Volunteer_Projects/Hassan/PET-GAN/TrainModel.ipynb Cell 2\u001b[0m line \u001b[0;36m1\n\u001b[1;32m      <a href='vscode-notebook-cell:/Volumes/DATA/Volunteer_Projects/Hassan/PET-GAN/TrainModel.ipynb#W3sZmlsZQ%3D%3D?line=8'>9</a>\u001b[0m \u001b[39mimport\u001b[39;00m \u001b[39mtime\u001b[39;00m\n\u001b[1;32m     <a href='vscode-notebook-cell:/Volumes/DATA/Volunteer_Projects/Hassan/PET-GAN/TrainModel.ipynb#W3sZmlsZQ%3D%3D?line=9'>10</a>\u001b[0m \u001b[39mfrom\u001b[39;00m \u001b[39mtime\u001b[39;00m \u001b[39mimport\u001b[39;00m time\n\u001b[0;32m---> <a href='vscode-notebook-cell:/Volumes/DATA/Volunteer_Projects/Hassan/PET-GAN/TrainModel.ipynb#W3sZmlsZQ%3D%3D?line=10'>11</a>\u001b[0m \u001b[39mimport\u001b[39;00m \u001b[39mtorch\u001b[39;00m\n\u001b[1;32m     <a href='vscode-notebook-cell:/Volumes/DATA/Volunteer_Projects/Hassan/PET-GAN/TrainModel.ipynb#W3sZmlsZQ%3D%3D?line=11'>12</a>\u001b[0m \u001b[39mimport\u001b[39;00m \u001b[39mtorch\u001b[39;00m\u001b[39m.\u001b[39;00m\u001b[39mnn\u001b[39;00m \u001b[39mas\u001b[39;00m \u001b[39mnn\u001b[39;00m\n\u001b[1;32m     <a href='vscode-notebook-cell:/Volumes/DATA/Volunteer_Projects/Hassan/PET-GAN/TrainModel.ipynb#W3sZmlsZQ%3D%3D?line=12'>13</a>\u001b[0m \u001b[39mimport\u001b[39;00m \u001b[39mtorch\u001b[39;00m\u001b[39m.\u001b[39;00m\u001b[39mnn\u001b[39;00m\u001b[39m.\u001b[39;00m\u001b[39mfunctional\u001b[39;00m \u001b[39mas\u001b[39;00m \u001b[39mF\u001b[39;00m\n",
      "\u001b[0;31mModuleNotFoundError\u001b[0m: No module named 'torch'"
     ]
    }
   ],
   "source": [
    "import matplotlib.pyplot as plt\n",
    "import multiprocessing as mp\n",
    "import nibabel as nib\n",
    "import numpy as np\n",
    "import os\n",
    "import pandas as pd\n",
    "import tempfile\n",
    "from sklearn import metrics\n",
    "import time\n",
    "from time import time\n",
    "import torch\n",
    "import torch.nn as nn\n",
    "import torch.nn.functional as F\n",
    "from monai.networks.nets import AHNet\n",
    "from tqdm import tqdm\n",
    "import monai\n",
    "from monai.config import print_config\n",
    "from monai.data import Dataset, DataLoader, CacheDataset\n",
    "from monai.transforms import (\n",
    "    Activations,\n",
    "    AsDiscrete,\n",
    "    Compose,\n",
    "    EnsureChannelFirstd,\n",
    "    EnsureTyped,\n",
    "    LoadImaged,\n",
    "    MapTransform,\n",
    "    Orientationd,\n",
    "    RandRicianNoised,\n",
    "    RandRotated,\n",
    "    RandFlipd,\n",
    "    Resized,\n",
    "    Rotate90d,\n",
    "    ScaleIntensityd,\n",
    "    DeleteItemsd,\n",
    "    NormalizeIntensityd\n",
    ")"
   ]
  },
  {
   "cell_type": "code",
   "execution_count": null,
   "metadata": {},
   "outputs": [],
   "source": [
    "os.environ[\"CUDA_DEVICE_ORDER\"]=\"PCI_BUS_ID\"\n",
    "os.environ[\"CUDA_VISIBLE_DEVICES\"]=\"1,2,3\""
   ]
  },
  {
   "cell_type": "code",
   "execution_count": null,
   "metadata": {},
   "outputs": [],
   "source": [
    "%store -r dictionary_train"
   ]
  },
  {
   "cell_type": "markdown",
   "metadata": {},
   "source": [
    "# 2. MONAI Dataloader"
   ]
  },
  {
   "cell_type": "code",
   "execution_count": null,
   "metadata": {},
   "outputs": [],
   "source": [
    "#To turn 4D images to 3D (from Ashley's classifier)\n",
    "class MakeSingleVolumed(MapTransform):\n",
    "    def __call__(self, data):\n",
    "        for key in self.keys:\n",
    "            num_volumes = data[key].shape[0]\n",
    "            data[\"NumVolumes\"] = num_volumes\n",
    "            \n",
    "            if num_volumes != 1:\n",
    "                middle_volume = num_volumes // 2\n",
    "                new_data = np.empty((1,128,128,64))\n",
    "                new_data[0,:,:,:] = data[key][middle_volume,:,:,:]\n",
    "                # fill last slice with the value of num_volumes \n",
    "                new_data[0,:,:,-1] = np.zeros((data[key].shape[1],data[key].shape[2])) + num_volumes\n",
    "                data[key] = torch.from_numpy(new_data)\n",
    "            else:\n",
    "                new_data = np.empty((1,128,128,64))\n",
    "                new_data[0,:,:,:] = data[key][0,:,:,:]\n",
    "                # fill last slice with the value of num_volumes \n",
    "                new_data[0,:,:,-1] = np.zeros((data[key].shape[1],data[key].shape[2])) + num_volumes\n",
    "                data[key] = torch.from_numpy(new_data)\n",
    "                \n",
    "        return data\n",
    "\n",
    "#This uses the mask to scale the intensity of the image (not being used rn)\n",
    "class ScaleImaged(MapTransform):\n",
    "    def __call__(self, data):\n",
    "            data[self.keys[0]] *= (0.4+data[self.keys[1]])\n",
    "\n",
    "            return data"
   ]
  },
  {
   "cell_type": "code",
   "execution_count": null,
   "metadata": {},
   "outputs": [],
   "source": [
    "train_transforms = Compose(\n",
    "    [\n",
    "        LoadImaged(keys=[\"t1\", \"t1c\", \"t2\", \"flair\", \"pet\"], reader=monai.data.ITKReader, image_only=True),\n",
    "        EnsureChannelFirstd(keys=[\"t1\", \"t1c\", \"t2\", \"flair\", \"pet\"]),\n",
    "        Orientationd(keys=[\"t1\", \"t1c\", \"t2\", \"flair\", \"pet\"], axcodes=\"RAS\"),        \n",
    "        EnsureTyped(keys=[\"t1\", \"t1c\", \"t2\", \"flair\", \"pet\"]),\n",
    "        Resized(keys=[\"t1\", \"t1c\", \"t2\", \"flair\", \"pet\"], spatial_size=(128,128,64)),\n",
    "        MakeSingleVolumed(keys=[\"t1\", \"t1c\", \"t2\", \"flair\", \"pet\"]),\n",
    "        Rotate90d(keys=[\"t1\", \"t1c\", \"t2\", \"flair\", \"pet\"]),\n",
    "        RandFlipd(keys=[\"t1\", \"t1c\", \"t2\", \"flair\", \"pet\"], prob=0.5, spatial_axis=1),\n",
    "        RandRotated(keys=[\"t1\", \"t1c\", \"t2\", \"flair\", \"pet\"], prob=0.6, range_z=0.3),\n",
    "        ScaleIntensityd(keys=[\"t1\", \"t1c\", \"t2\", \"flair\", \"pet\"]),\n",
    "        NormalizeIntensityd(keys=[\"t1\", \"t1c\", \"t2\", \"flair\", \"pet\"])\n",
    "    ]\n",
    ")"
   ]
  },
  {
   "cell_type": "code",
   "execution_count": null,
   "metadata": {},
   "outputs": [],
   "source": [
    "val_files = dictionary_train[:10]\n",
    "\n",
    "check_ds = Dataset(data=val_files, transform=train_transforms)\n",
    "check_DataLoader = DataLoader(check_ds, batch_size=1, shuffle=False)"
   ]
  },
  {
   "cell_type": "code",
   "execution_count": null,
   "metadata": {},
   "outputs": [],
   "source": [
    "program_starts = time()\n",
    "step = 1350\n",
    "slice_index = 32\n",
    "for item in check_DataLoader:\n",
    "    image_datas = item[\"t1\"][0, 0, :, :, slice_index], item[\"t1c\"][0, 0, :, :, slice_index], item[\"t2\"][0, 0, :, :, slice_index], item[\"flair\"][0, 0, :, :, slice_index]\n",
    "    title = item[\"id\"]\n",
    "    \n",
    "    f, axarr = plt.subplots(1, 4)\n",
    "    \n",
    "    axarr[0].imshow(image_datas[0])\n",
    "    axarr[0].set_title(\"T1\")\n",
    "    axarr[1].imshow(image_datas[1])\n",
    "    axarr[1].set_title(\"T1C\")\n",
    "    axarr[2].imshow(image_datas[2])\n",
    "    axarr[2].set_title(\"T2\")\n",
    "    axarr[3].imshow(image_datas[3])\n",
    "    axarr[3].set_title(\"FLAIR\")\n",
    "    f.suptitle(title)\n",
    "    \n",
    "    step += 1\n",
    "now = time()\n",
    "print(\"It has been {0} seconds since the loop started\".format(now - program_starts))"
   ]
  }
 ],
 "metadata": {
  "kernelspec": {
   "display_name": "Python 3",
   "language": "python",
   "name": "python3"
  },
  "language_info": {
   "codemirror_mode": {
    "name": "ipython",
    "version": 3
   },
   "file_extension": ".py",
   "mimetype": "text/x-python",
   "name": "python",
   "nbconvert_exporter": "python",
   "pygments_lexer": "ipython3",
   "version": "3.11.6"
  }
 },
 "nbformat": 4,
 "nbformat_minor": 2
}
