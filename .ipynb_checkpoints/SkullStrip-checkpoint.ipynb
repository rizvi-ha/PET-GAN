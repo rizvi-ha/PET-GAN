{
 "cells": [
  {
   "cell_type": "code",
   "execution_count": 31,
   "id": "2d4e0c98-5e5b-4b89-9d65-25c3a7b1b4ca",
   "metadata": {},
   "outputs": [],
   "source": [
    "import os\n",
    "import subprocess\n",
    "import pandas as pd\n",
    "from tqdm import tqdm\n",
    "import time"
   ]
  },
  {
   "cell_type": "code",
   "execution_count": 32,
   "id": "4a154610-e794-4e80-b5b8-e287eb2a7e3a",
   "metadata": {},
   "outputs": [],
   "source": [
    "dataset_all = pd.read_csv('pathlist.csv', usecols=[1,2,3,4,5])\n",
    "dataset_all.head()\n",
    "t1 = dataset_all['t1']\n",
    "t1c = dataset_all['t1c']\n",
    "t2 = dataset_all['t2']\n",
    "flair = dataset_all['flair']\n",
    "pet = dataset_all['pet']"
   ]
  },
  {
   "cell_type": "code",
   "execution_count": 33,
   "id": "223765f5-44f1-476f-b3fb-4e34bb40775e",
   "metadata": {},
   "outputs": [],
   "source": [
    "def find_parent_folder(file_path):\n",
    "    result = file_path\n",
    "    leftover = \"\"\n",
    "    while result[-1] != '/':\n",
    "        leftover = result[-1] + leftover\n",
    "        result = result[:-1]\n",
    "    return result, leftover"
   ]
  },
  {
   "cell_type": "code",
   "execution_count": 43,
   "id": "9e3f2eb6-8ca5-46b5-ab26-7eef28186959",
   "metadata": {},
   "outputs": [],
   "source": [
    "def skull_strip_batch(folder_path):\n",
    "\n",
    "    if os.path.isdir(folder_path + \"_bet/\"):\n",
    "        print(\"Skull stripping already done.\")\n",
    "        return\n",
    "    \n",
    "    bet_command = [\"hd-bet -i \" + folder_path + \" -mode fast -tta 0 -s 0\"]\n",
    "    subprocess.run(bet_command, shell=True, stderr=subprocess.STDOUT)\n",
    "    return"
   ]
  },
  {
   "cell_type": "code",
   "execution_count": 44,
   "id": "4bd9413e-1ca6-4076-87f8-8f80106b66d2",
   "metadata": {},
   "outputs": [],
   "source": [
    "def process_patient(t1_path, t1c_path, t2_path, flair_path, pet_path, patientno):\n",
    "\n",
    "    t1_output = t1_path.replace('.nii.gz', '.copy.nii.gz')\n",
    "    parent_folder0, filename0 = find_parent_folder(t1_output)\n",
    "    t1_target = parent_folder0 + \"reg/\" + filename0\n",
    "    \n",
    "    t1c_output = t1c_path.replace('.nii.gz', '.copy.nii.gz')\n",
    "    parent_folder1, filename1 = find_parent_folder(t1c_output)\n",
    "    t1c_target = parent_folder1 + \"reg/\" + filename1\n",
    "\n",
    "    t2_output = t2_path.replace('.nii.gz', '.copy.nii.gz')\n",
    "    parent_folder2, filename2 = find_parent_folder(t2_output)\n",
    "    t2_target = parent_folder2 + \"reg/\" + filename2\n",
    "\n",
    "    flair_output = flair_path.replace('.nii.gz', '.copy.nii.gz')\n",
    "    parent_folder3, filename3 = find_parent_folder(flair_output)\n",
    "    flair_target = parent_folder3 + \"reg/\" + filename3\n",
    "\n",
    "    pet_output = pet_path.replace('.nii.gz', '.copy.nii.gz')\n",
    "    parent_folder4, filename4 = find_parent_folder(pet_output)\n",
    "    pet_target = parent_folder3 + \"reg/\" + filename4\n",
    "\n",
    "    assert(parent_folder1 == parent_folder2)\n",
    "    assert(parent_folder2 == parent_folder0)\n",
    "    assert(parent_folder2 == parent_folder3)\n",
    "\n",
    "    if not os.path.isdir(parent_folder1 + \"reg/\"):\n",
    "        mkdir_command = [\"mkdir \" + parent_folder1 + \"reg/\"]\n",
    "        subprocess.run(mkdir_command, shell=True)\n",
    "\n",
    "    cp_command0 = [\"cp \" + t1_path + \" \" + t1_target]\n",
    "    cp_command1 = [\"cp \" + t1c_path + \" \" + t1c_target]\n",
    "    cp_command2 = [\"cp \" + t2_path + \" \" + t2_target]\n",
    "    cp_command3 = [\"cp \" + flair_path + \" \" + flair_target]\n",
    "    cp_command4 = [\"cp \" + pet_path + \" \" + pet_target]\n",
    "\n",
    "    subprocess.run(cp_command0, shell=True)\n",
    "    subprocess.run(cp_command1, shell=True)\n",
    "    subprocess.run(cp_command2, shell=True)\n",
    "    subprocess.run(cp_command3, shell=True)\n",
    "    subprocess.run(cp_command4, shell=True)\n",
    "\n",
    "    print('Skull stripping patient#: ' + str(patientno))\n",
    "    start = time.time()\n",
    "    print(parent_folder1)\n",
    "    skull_strip_batch(parent_folder1 + \"reg/\")\n",
    "    end = time.time()\n",
    "    print(\"Took \" + str(end-start) + \" seconds to skull strip\")\n",
    "    sleep(1000)\n",
    "    return"
   ]
  },
  {
   "cell_type": "code",
   "execution_count": 45,
   "id": "dd3fcd96-c96f-4ed9-9d17-0fab00eb6163",
   "metadata": {},
   "outputs": [
    {
     "name": "stderr",
     "output_type": "stream",
     "text": [
      "  0%|                                                   | 0/262 [00:01<?, ?it/s]"
     ]
    },
    {
     "name": "stdout",
     "output_type": "stream",
     "text": [
      "Skull stripping patient#: 1\n",
      "/synapse_data/Volunteer_Projects/DL-PETprediction/Data/3786725/20150116/NIFTI_MNI/\n",
      "/bin/sh: 1: hd-bet: not found\n",
      "Took 0.0014770030975341797 seconds to skull strip\n"
     ]
    },
    {
     "name": "stderr",
     "output_type": "stream",
     "text": [
      "\n"
     ]
    },
    {
     "ename": "NameError",
     "evalue": "name 'sleep' is not defined",
     "output_type": "error",
     "traceback": [
      "\u001b[0;31m---------------------------------------------------------------------------\u001b[0m",
      "\u001b[0;31mNameError\u001b[0m                                 Traceback (most recent call last)",
      "Cell \u001b[0;32mIn[45], line 5\u001b[0m\n\u001b[1;32m      2\u001b[0m patientno \u001b[38;5;241m=\u001b[39m \u001b[38;5;241m1\u001b[39m\n\u001b[1;32m      4\u001b[0m \u001b[38;5;28;01mfor\u001b[39;00m t1_path, t1c_path, t2_path, flair_path, pet_path \u001b[38;5;129;01min\u001b[39;00m \u001b[38;5;28mzip\u001b[39m(tqdm(t1), t1c, t2, flair, pet):\n\u001b[0;32m----> 5\u001b[0m     \u001b[43mprocess_patient\u001b[49m\u001b[43m(\u001b[49m\u001b[43mt1_path\u001b[49m\u001b[43m,\u001b[49m\u001b[43m \u001b[49m\u001b[43mt1c_path\u001b[49m\u001b[43m,\u001b[49m\u001b[43m \u001b[49m\u001b[43mt2_path\u001b[49m\u001b[43m,\u001b[49m\u001b[43m \u001b[49m\u001b[43mflair_path\u001b[49m\u001b[43m,\u001b[49m\u001b[43m \u001b[49m\u001b[43mpet_path\u001b[49m\u001b[43m,\u001b[49m\u001b[43m \u001b[49m\u001b[43mpatientno\u001b[49m\u001b[43m)\u001b[49m\n\u001b[1;32m      6\u001b[0m     patientno \u001b[38;5;241m+\u001b[39m\u001b[38;5;241m=\u001b[39m \u001b[38;5;241m1\u001b[39m\n",
      "Cell \u001b[0;32mIn[44], line 49\u001b[0m, in \u001b[0;36mprocess_patient\u001b[0;34m(t1_path, t1c_path, t2_path, flair_path, pet_path, patientno)\u001b[0m\n\u001b[1;32m     47\u001b[0m end \u001b[38;5;241m=\u001b[39m time\u001b[38;5;241m.\u001b[39mtime()\n\u001b[1;32m     48\u001b[0m \u001b[38;5;28mprint\u001b[39m(\u001b[38;5;124m\"\u001b[39m\u001b[38;5;124mTook \u001b[39m\u001b[38;5;124m\"\u001b[39m \u001b[38;5;241m+\u001b[39m \u001b[38;5;28mstr\u001b[39m(end\u001b[38;5;241m-\u001b[39mstart) \u001b[38;5;241m+\u001b[39m \u001b[38;5;124m\"\u001b[39m\u001b[38;5;124m seconds to skull strip\u001b[39m\u001b[38;5;124m\"\u001b[39m)\n\u001b[0;32m---> 49\u001b[0m \u001b[43msleep\u001b[49m(\u001b[38;5;241m1000\u001b[39m)\n\u001b[1;32m     50\u001b[0m \u001b[38;5;28;01mreturn\u001b[39;00m\n",
      "\u001b[0;31mNameError\u001b[0m: name 'sleep' is not defined"
     ]
    }
   ],
   "source": [
    "paths = zip(t1, t1c, t2, flair, pet)\n",
    "patientno = 1\n",
    "\n",
    "for t1_path, t1c_path, t2_path, flair_path, pet_path in zip(tqdm(t1), t1c, t2, flair, pet):\n",
    "    process_patient(t1_path, t1c_path, t2_path, flair_path, pet_path, patientno)\n",
    "    patientno += 1"
   ]
  },
  {
   "cell_type": "code",
   "execution_count": null,
   "id": "ec6abe77-dcdb-4252-9768-0222224e027b",
   "metadata": {},
   "outputs": [],
   "source": []
  }
 ],
 "metadata": {
  "kernelspec": {
   "display_name": "Python 3 (ipykernel)",
   "language": "python",
   "name": "python3"
  },
  "language_info": {
   "codemirror_mode": {
    "name": "ipython",
    "version": 3
   },
   "file_extension": ".py",
   "mimetype": "text/x-python",
   "name": "python",
   "nbconvert_exporter": "python",
   "pygments_lexer": "ipython3",
   "version": "3.10.12"
  }
 },
 "nbformat": 4,
 "nbformat_minor": 5
}
