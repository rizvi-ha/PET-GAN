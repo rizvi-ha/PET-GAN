{
 "cells": [
  {
   "cell_type": "code",
   "execution_count": 1,
   "metadata": {},
   "outputs": [],
   "source": [
    "%reset -f"
   ]
  },
  {
   "cell_type": "markdown",
   "metadata": {},
   "source": [
    "# 1. Imports"
   ]
  },
  {
   "cell_type": "code",
   "execution_count": 2,
   "metadata": {},
   "outputs": [],
   "source": [
    "import os\n",
    "import glob\n",
    "import numpy as np\n",
    "import pandas as pd\n",
    "import nibabel as nib"
   ]
  },
  {
   "cell_type": "markdown",
   "metadata": {},
   "source": [
    "# 2. Creating Lists of Paired Image Paths\n",
    "\n"
   ]
  },
  {
   "cell_type": "markdown",
   "metadata": {},
   "source": [
    "## 2.1 Glob Function\n"
   ]
  },
  {
   "cell_type": "code",
   "execution_count": 3,
   "metadata": {},
   "outputs": [],
   "source": [
    "import glob # for loading the data\n",
    "def insensitive_glob(pattern):\n",
    "    def either(c):\n",
    "        return '[%s%s]' % (c.lower(), c.upper()) if c.isalpha() else c\n",
    "    return glob.glob(''.join(map(either, pattern)))"
   ]
  },
  {
   "cell_type": "markdown",
   "metadata": {},
   "source": [
    "## 2.2 Dataset 1 - \"Data\" Folder"
   ]
  },
  {
   "cell_type": "code",
   "execution_count": 4,
   "metadata": {},
   "outputs": [
    {
     "name": "stdout",
     "output_type": "stream",
     "text": [
      "57\n"
     ]
    }
   ],
   "source": [
    "data_root = \"/synapse_data/Volunteer_Projects/DL-PETprediction/Data/\"\n",
    "\n",
    "data_t1 = []\n",
    "data_t1c = []\n",
    "data_t2 = []\n",
    "data_flair = []\n",
    "data_pet = []\n",
    "patients = []\n",
    "\n",
    "for folder_name in os.listdir(data_root):\n",
    "    if folder_name[0] == '.' or folder_name[0] == 'N':\n",
    "        continue\n",
    "    patient_folder = data_root + folder_name \n",
    "    if (os.path.isdir(patient_folder)):\n",
    "        patients.append(patient_folder)\n",
    "\n",
    "for patient in patients:\n",
    "    t1_path = patient + '/*/NIFTI_MNI/reg/_bet/t1.reg.copy.nii.gz'\n",
    "    t1c_path = patient + '/*/NIFTI_MNI/reg/_bet/t1+c.reg.copy.nii.gz'\n",
    "    t2_path = patient + '/*/NIFTI_MNI/reg/_bet/t2.reg.copy.nii.gz'\n",
    "    flair_path = patient + '/*/NIFTI_MNI/reg/_bet/flair.reg.copy.nii.gz'\n",
    "    pet_path = patient + '/*/NIFTI_MNI/reg/_bet/PET.reg.copy.nii.gz'\n",
    "\n",
    "    t1_path = insensitive_glob(t1_path)\n",
    "    t1c_path = insensitive_glob(t1c_path)\n",
    "    t2_path = insensitive_glob(t2_path)\n",
    "    flair_path = insensitive_glob(flair_path)\n",
    "    pet_path = insensitive_glob(pet_path)\n",
    "\n",
    "    if len(t1_path) == 0 or len(t1c_path) == 0 or len(t2_path) == 0 or len(flair_path) == 0 or len(pet_path) == 0:\n",
    "        continue\n",
    "    else:\n",
    "        data_t1.append(t1_path[0])\n",
    "        data_t1c.append(t1c_path[0])\n",
    "        data_t2.append(t2_path[0])\n",
    "        data_flair.append(flair_path[0])\n",
    "        data_pet.append(pet_path[0])\n",
    "\n",
    "assert(len(data_t1) == len(data_t2))\n",
    "assert(len(data_t2) == len(data_t1c))\n",
    "assert(len(data_flair) == len(data_t2))\n",
    "assert(len(data_pet) == len(data_t2))\n",
    "\n",
    "print(len(data_t1))\n"
   ]
  },
  {
   "cell_type": "markdown",
   "metadata": {},
   "source": [
    "## 2.2 Dataset 2 - \"Data2\" Folder"
   ]
  },
  {
   "cell_type": "code",
   "execution_count": 5,
   "metadata": {},
   "outputs": [
    {
     "name": "stdout",
     "output_type": "stream",
     "text": [
      "190\n"
     ]
    }
   ],
   "source": [
    "data2_root = \"/synapse_data/Volunteer_Projects/DL-PETprediction/Data2/\"\n",
    "\n",
    "data2_t1 = []\n",
    "data2_t1c = []\n",
    "data2_t2 = []\n",
    "data2_flair = []\n",
    "data2_pet = []\n",
    "patients = []\n",
    "\n",
    "for folder_name in os.listdir(data2_root):\n",
    "    if folder_name[0] == '.' or folder_name[0] == 'N':\n",
    "        continue\n",
    "    patient_folder = data2_root + folder_name \n",
    "    if (os.path.isdir(patient_folder)):\n",
    "        patients.append(patient_folder)\n",
    "\n",
    "for patient in patients:\n",
    "    t1_path = patient + '/*/NIFTI_MNI/reg/_bet/t1.reg.copy.nii.gz'\n",
    "    t1c_path = patient + '/*/NIFTI_MNI/reg/_bet/t1+c.reg.copy.nii.gz'\n",
    "    t2_path = patient + '/*/NIFTI_MNI/reg/_bet/t2.reg.copy.nii.gz'\n",
    "    flair_path = patient + '/*/NIFTI_MNI/reg/_bet/flair.reg.copy.nii.gz'\n",
    "    pet_path = patient + '/*/NIFTI_MNI/reg/_bet/PET.reg.copy.nii.gz'\n",
    "\n",
    "    t1_path = insensitive_glob(t1_path)\n",
    "    t1c_path = insensitive_glob(t1c_path)\n",
    "    t2_path = insensitive_glob(t2_path)\n",
    "    flair_path = insensitive_glob(flair_path)\n",
    "    pet_path = insensitive_glob(pet_path)\n",
    "\n",
    "    if len(t1_path) == 0 or len(t1c_path) == 0 or len(t2_path) == 0 or len(flair_path) == 0 or len(pet_path) == 0:\n",
    "        continue\n",
    "    else:\n",
    "        data2_t1.append(t1_path[0])\n",
    "        data2_t1c.append(t1c_path[0])\n",
    "        data2_t2.append(t2_path[0])\n",
    "        data2_flair.append(flair_path[0])\n",
    "        data2_pet.append(pet_path[0])\n",
    "\n",
    "assert(len(data2_t1) == len(data2_t2))\n",
    "assert(len(data2_t2) == len(data2_t1c))\n",
    "assert(len(data2_flair) == len(data2_t2))\n",
    "assert(len(data2_pet) == len(data2_t2))\n",
    "\n",
    "print(len(data2_t1))"
   ]
  },
  {
   "cell_type": "markdown",
   "metadata": {},
   "source": [
    "# 3. Create Data Dictionaries"
   ]
  },
  {
   "cell_type": "code",
   "execution_count": 6,
   "metadata": {},
   "outputs": [
    {
     "name": "stdout",
     "output_type": "stream",
     "text": [
      "Initial list  size  All - (247, 5)\n"
     ]
    },
    {
     "data": {
      "text/html": [
       "<div>\n",
       "<style scoped>\n",
       "    .dataframe tbody tr th:only-of-type {\n",
       "        vertical-align: middle;\n",
       "    }\n",
       "\n",
       "    .dataframe tbody tr th {\n",
       "        vertical-align: top;\n",
       "    }\n",
       "\n",
       "    .dataframe thead th {\n",
       "        text-align: right;\n",
       "    }\n",
       "</style>\n",
       "<table border=\"1\" class=\"dataframe\">\n",
       "  <thead>\n",
       "    <tr style=\"text-align: right;\">\n",
       "      <th></th>\n",
       "      <th>t1</th>\n",
       "      <th>t1c</th>\n",
       "      <th>t2</th>\n",
       "      <th>flair</th>\n",
       "      <th>pet</th>\n",
       "    </tr>\n",
       "  </thead>\n",
       "  <tbody>\n",
       "    <tr>\n",
       "      <th>0</th>\n",
       "      <td>/synapse_data/Volunteer_Projects/DL-PETpredict...</td>\n",
       "      <td>/synapse_data/Volunteer_Projects/DL-PETpredict...</td>\n",
       "      <td>/synapse_data/Volunteer_Projects/DL-PETpredict...</td>\n",
       "      <td>/synapse_data/Volunteer_Projects/DL-PETpredict...</td>\n",
       "      <td>/synapse_data/Volunteer_Projects/DL-PETpredict...</td>\n",
       "    </tr>\n",
       "    <tr>\n",
       "      <th>1</th>\n",
       "      <td>/synapse_data/Volunteer_Projects/DL-PETpredict...</td>\n",
       "      <td>/synapse_data/Volunteer_Projects/DL-PETpredict...</td>\n",
       "      <td>/synapse_data/Volunteer_Projects/DL-PETpredict...</td>\n",
       "      <td>/synapse_data/Volunteer_Projects/DL-PETpredict...</td>\n",
       "      <td>/synapse_data/Volunteer_Projects/DL-PETpredict...</td>\n",
       "    </tr>\n",
       "    <tr>\n",
       "      <th>2</th>\n",
       "      <td>/synapse_data/Volunteer_Projects/DL-PETpredict...</td>\n",
       "      <td>/synapse_data/Volunteer_Projects/DL-PETpredict...</td>\n",
       "      <td>/synapse_data/Volunteer_Projects/DL-PETpredict...</td>\n",
       "      <td>/synapse_data/Volunteer_Projects/DL-PETpredict...</td>\n",
       "      <td>/synapse_data/Volunteer_Projects/DL-PETpredict...</td>\n",
       "    </tr>\n",
       "    <tr>\n",
       "      <th>3</th>\n",
       "      <td>/synapse_data/Volunteer_Projects/DL-PETpredict...</td>\n",
       "      <td>/synapse_data/Volunteer_Projects/DL-PETpredict...</td>\n",
       "      <td>/synapse_data/Volunteer_Projects/DL-PETpredict...</td>\n",
       "      <td>/synapse_data/Volunteer_Projects/DL-PETpredict...</td>\n",
       "      <td>/synapse_data/Volunteer_Projects/DL-PETpredict...</td>\n",
       "    </tr>\n",
       "    <tr>\n",
       "      <th>4</th>\n",
       "      <td>/synapse_data/Volunteer_Projects/DL-PETpredict...</td>\n",
       "      <td>/synapse_data/Volunteer_Projects/DL-PETpredict...</td>\n",
       "      <td>/synapse_data/Volunteer_Projects/DL-PETpredict...</td>\n",
       "      <td>/synapse_data/Volunteer_Projects/DL-PETpredict...</td>\n",
       "      <td>/synapse_data/Volunteer_Projects/DL-PETpredict...</td>\n",
       "    </tr>\n",
       "  </tbody>\n",
       "</table>\n",
       "</div>"
      ],
      "text/plain": [
       "                                                  t1  \\\n",
       "0  /synapse_data/Volunteer_Projects/DL-PETpredict...   \n",
       "1  /synapse_data/Volunteer_Projects/DL-PETpredict...   \n",
       "2  /synapse_data/Volunteer_Projects/DL-PETpredict...   \n",
       "3  /synapse_data/Volunteer_Projects/DL-PETpredict...   \n",
       "4  /synapse_data/Volunteer_Projects/DL-PETpredict...   \n",
       "\n",
       "                                                 t1c  \\\n",
       "0  /synapse_data/Volunteer_Projects/DL-PETpredict...   \n",
       "1  /synapse_data/Volunteer_Projects/DL-PETpredict...   \n",
       "2  /synapse_data/Volunteer_Projects/DL-PETpredict...   \n",
       "3  /synapse_data/Volunteer_Projects/DL-PETpredict...   \n",
       "4  /synapse_data/Volunteer_Projects/DL-PETpredict...   \n",
       "\n",
       "                                                  t2  \\\n",
       "0  /synapse_data/Volunteer_Projects/DL-PETpredict...   \n",
       "1  /synapse_data/Volunteer_Projects/DL-PETpredict...   \n",
       "2  /synapse_data/Volunteer_Projects/DL-PETpredict...   \n",
       "3  /synapse_data/Volunteer_Projects/DL-PETpredict...   \n",
       "4  /synapse_data/Volunteer_Projects/DL-PETpredict...   \n",
       "\n",
       "                                               flair  \\\n",
       "0  /synapse_data/Volunteer_Projects/DL-PETpredict...   \n",
       "1  /synapse_data/Volunteer_Projects/DL-PETpredict...   \n",
       "2  /synapse_data/Volunteer_Projects/DL-PETpredict...   \n",
       "3  /synapse_data/Volunteer_Projects/DL-PETpredict...   \n",
       "4  /synapse_data/Volunteer_Projects/DL-PETpredict...   \n",
       "\n",
       "                                                 pet  \n",
       "0  /synapse_data/Volunteer_Projects/DL-PETpredict...  \n",
       "1  /synapse_data/Volunteer_Projects/DL-PETpredict...  \n",
       "2  /synapse_data/Volunteer_Projects/DL-PETpredict...  \n",
       "3  /synapse_data/Volunteer_Projects/DL-PETpredict...  \n",
       "4  /synapse_data/Volunteer_Projects/DL-PETpredict...  "
      ]
     },
     "execution_count": 6,
     "metadata": {},
     "output_type": "execute_result"
    }
   ],
   "source": [
    "dataset_1 = pd.DataFrame(np.column_stack([data_t1, data_t1c, data_t2, data_flair, data_pet]), columns=['t1', 't1c', 't2', 'flair', 'pet'])\n",
    "dataset_2 = pd.DataFrame(np.column_stack([data2_t1, data2_t1c, data2_t2, data2_flair, data2_pet]), columns=['t1', 't1c', 't2', 'flair', 'pet'])\n",
    "\n",
    "dataset_all = result = pd.concat([dataset_1, dataset_2])\n",
    "#dataset_all.to_csv('pathlist.csv')\n",
    "dataset_all = dataset_all.sample(frac=1).reset_index(drop=True)\n",
    "print(\"Initial list  size  All - \"  + str(dataset_all.shape))\n",
    "dataset_all.head()\n"
   ]
  },
  {
   "cell_type": "code",
   "execution_count": 14,
   "metadata": {},
   "outputs": [
    {
     "name": "stdout",
     "output_type": "stream",
     "text": [
      "185 5 57\n"
     ]
    }
   ],
   "source": [
    "train_size = int(dataset_all.shape[0] * 0.75)\n",
    "valid_size = 5\n",
    "test_size = dataset_all.shape[0] - train_size - valid_size\n",
    "\n",
    "print(train_size, valid_size, test_size)\n",
    "\n",
    "dictionary_train = [\n",
    "        {\"t1\": a, \"t1c\": b, \"t2\": c, \"flair\": d, \"pet\": e}\n",
    "        for a,b,c,d,e in zip(dataset_all[:train_size].t1, dataset_all[:train_size].t1c, dataset_all[:train_size].t2, dataset_all[:train_size].flair, dataset_all[:train_size].pet)\n",
    "]\n",
    "\n",
    "dictionary_valid = [\n",
    "        {\"t1\": a, \"t1c\": b, \"t2\": c, \"flair\": d, \"pet\": e}\n",
    "        for a,b,c,d,e in zip(dataset_all[train_size:train_size+valid_size].t1, dataset_all[train_size:train_size+valid_size].t1c, dataset_all[train_size:train_size+valid_size].t2, dataset_all[train_size:train_size+valid_size].flair, dataset_all[train_size:train_size+valid_size].pet)\n",
    "]\n",
    "\n",
    "dictionary_test = [\n",
    "    {\"t1\": a, \"t1c\": b, \"t2\": c, \"flair\": d, \"pet\": e}\n",
    "        for a,b,c,d,e in zip(dataset_all[train_size+valid_size:].t1, dataset_all[train_size+valid_size:].t1c, dataset_all[train_size+valid_size:].t2, dataset_all[train_size+valid_size:].flair, dataset_all[train_size+valid_size:].pet)\n",
    "]\n"
   ]
  },
  {
   "cell_type": "code",
   "execution_count": 15,
   "metadata": {},
   "outputs": [
    {
     "name": "stdout",
     "output_type": "stream",
     "text": [
      "Stored 'dictionary_train' (list)\n",
      "Stored 'dictionary_valid' (list)\n",
      "Stored 'dictionary_test' (list)\n"
     ]
    }
   ],
   "source": [
    "%store dictionary_train\n",
    "%store dictionary_valid\n",
    "%store dictionary_test"
   ]
  },
  {
   "cell_type": "code",
   "execution_count": null,
   "metadata": {},
   "outputs": [],
   "source": []
  },
  {
   "cell_type": "code",
   "execution_count": null,
   "metadata": {},
   "outputs": [],
   "source": []
  }
 ],
 "metadata": {
  "kernelspec": {
   "display_name": "Python 3 (ipykernel)",
   "language": "python",
   "name": "python3"
  },
  "language_info": {
   "codemirror_mode": {
    "name": "ipython",
    "version": 3
   },
   "file_extension": ".py",
   "mimetype": "text/x-python",
   "name": "python",
   "nbconvert_exporter": "python",
   "pygments_lexer": "ipython3",
   "version": "3.10.12"
  }
 },
 "nbformat": 4,
 "nbformat_minor": 4
}
