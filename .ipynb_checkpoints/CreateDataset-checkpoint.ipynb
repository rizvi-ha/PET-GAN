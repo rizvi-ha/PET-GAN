{
 "cells": [
  {
   "cell_type": "code",
   "execution_count": 1,
   "metadata": {},
   "outputs": [],
   "source": [
    "%reset -f"
   ]
  },
  {
   "cell_type": "markdown",
   "metadata": {},
   "source": [
    "# 1. Imports"
   ]
  },
  {
   "cell_type": "code",
   "execution_count": 2,
   "metadata": {},
   "outputs": [],
   "source": [
    "import os\n",
    "import glob\n",
    "import numpy as np\n",
    "import pandas as pd\n",
    "import nibabel as nib"
   ]
  },
  {
   "cell_type": "markdown",
   "metadata": {},
   "source": [
    "# 2. Creating Lists of Paired Image Paths\n",
    "\n"
   ]
  },
  {
   "cell_type": "markdown",
   "metadata": {},
   "source": [
    "## 2.1 Glob Function\n"
   ]
  },
  {
   "cell_type": "code",
   "execution_count": 3,
   "metadata": {},
   "outputs": [],
   "source": [
    "import glob # for loading the data\n",
    "def insensitive_glob(pattern):\n",
    "    def either(c):\n",
    "        return '[%s%s]' % (c.lower(), c.upper()) if c.isalpha() else c\n",
    "    return glob.glob(''.join(map(either, pattern)))"
   ]
  },
  {
   "cell_type": "markdown",
   "metadata": {},
   "source": [
    "## 2.2 Dataset 1 - \"Data\" Folder"
   ]
  },
  {
   "cell_type": "code",
   "execution_count": 4,
   "metadata": {},
   "outputs": [
    {
     "ename": "FileNotFoundError",
     "evalue": "[Errno 2] No such file or directory: '/Volumes/DATA/Volunteer_Projects/DL-PETprediction/Data/'",
     "output_type": "error",
     "traceback": [
      "\u001b[0;31m---------------------------------------------------------------------------\u001b[0m",
      "\u001b[0;31mFileNotFoundError\u001b[0m                         Traceback (most recent call last)",
      "Cell \u001b[0;32mIn[4], line 10\u001b[0m\n\u001b[1;32m      7\u001b[0m data_pet \u001b[38;5;241m=\u001b[39m []\n\u001b[1;32m      8\u001b[0m patients \u001b[38;5;241m=\u001b[39m []\n\u001b[0;32m---> 10\u001b[0m \u001b[38;5;28;01mfor\u001b[39;00m folder_name \u001b[38;5;129;01min\u001b[39;00m \u001b[43mos\u001b[49m\u001b[38;5;241;43m.\u001b[39;49m\u001b[43mlistdir\u001b[49m\u001b[43m(\u001b[49m\u001b[43mdata_root\u001b[49m\u001b[43m)\u001b[49m:\n\u001b[1;32m     11\u001b[0m     \u001b[38;5;28;01mif\u001b[39;00m folder_name[\u001b[38;5;241m0\u001b[39m] \u001b[38;5;241m==\u001b[39m \u001b[38;5;124m'\u001b[39m\u001b[38;5;124m.\u001b[39m\u001b[38;5;124m'\u001b[39m \u001b[38;5;129;01mor\u001b[39;00m folder_name[\u001b[38;5;241m0\u001b[39m] \u001b[38;5;241m==\u001b[39m \u001b[38;5;124m'\u001b[39m\u001b[38;5;124mN\u001b[39m\u001b[38;5;124m'\u001b[39m:\n\u001b[1;32m     12\u001b[0m         \u001b[38;5;28;01mcontinue\u001b[39;00m\n",
      "\u001b[0;31mFileNotFoundError\u001b[0m: [Errno 2] No such file or directory: '/Volumes/DATA/Volunteer_Projects/DL-PETprediction/Data/'"
     ]
    }
   ],
   "source": [
    "data_root = \"/synapse_data/Volunteer_Projects/DL-PETprediction/Data/\"\n",
    "\n",
    "data_t1 = []\n",
    "data_t1c = []\n",
    "data_t2 = []\n",
    "data_flair = []\n",
    "data_pet = []\n",
    "patients = []\n",
    "\n",
    "for folder_name in os.listdir(data_root):\n",
    "    if folder_name[0] == '.' or folder_name[0] == 'N':\n",
    "        continue\n",
    "    patient_folder = data_root + folder_name \n",
    "    if (os.path.isdir(patient_folder)):\n",
    "        patients.append(patient_folder)\n",
    "\n",
    "for patient in patients:\n",
    "    t1_path = patient + '/*/NIFTI_MNI/t1.reg.nii.gz'\n",
    "    t1c_path = patient + '/*/NIFTI_MNI/t1+c.reg.nii.gz'\n",
    "    t2_path = patient + '/*/NIFTI_MNI/t2.reg.nii.gz'\n",
    "    flair_path = patient + '/*/NIFTI_MNI/flair.reg.nii.gz'\n",
    "    pet_path = patient + '/*/NIFTI_MNI/PET.reg.nii.gz'\n",
    "\n",
    "    t1_path = insensitive_glob(t1_path)\n",
    "    t1c_path = insensitive_glob(t1c_path)\n",
    "    t2_path = insensitive_glob(t2_path)\n",
    "    flair_path = insensitive_glob(flair_path)\n",
    "    pet_path = insensitive_glob(pet_path)\n",
    "\n",
    "    if len(t1_path) == 0 or len(t1c_path) == 0 or len(t2_path) == 0 or len(flair_path) == 0 or len(pet_path) == 0:\n",
    "        continue\n",
    "    else:\n",
    "        data_t1.append(t1_path[0])\n",
    "        data_t1c.append(t1c_path[0])\n",
    "        data_t2.append(t2_path[0])\n",
    "        data_flair.append(flair_path[0])\n",
    "        data_pet.append(pet_path[0])\n",
    "\n",
    "assert(len(data_t1) == len(data_t2))\n",
    "assert(len(data_t2) == len(data_t1c))\n",
    "assert(len(data_flair) == len(data_t2))\n",
    "assert(len(data_pet) == len(data_t2))\n",
    "\n",
    "print(len(data_t1))\n"
   ]
  },
  {
   "cell_type": "markdown",
   "metadata": {},
   "source": [
    "## 2.2 Dataset 2 - \"Data2\" Folder"
   ]
  },
  {
   "cell_type": "code",
   "execution_count": null,
   "metadata": {},
   "outputs": [],
   "source": [
    "data2_root = \"/synapse_data/Volunteer_Projects/DL-PETprediction/Data2/\"\n",
    "\n",
    "data2_t1 = []\n",
    "data2_t1c = []\n",
    "data2_t2 = []\n",
    "data2_flair = []\n",
    "data2_pet = []\n",
    "patients = []\n",
    "\n",
    "for folder_name in os.listdir(data2_root):\n",
    "    if folder_name[0] == '.' or folder_name[0] == 'N':\n",
    "        continue\n",
    "    patient_folder = data2_root + folder_name \n",
    "    if (os.path.isdir(patient_folder)):\n",
    "        patients.append(patient_folder)\n",
    "\n",
    "for patient in patients:\n",
    "    t1_path = patient + '/*/NIFTI_MNI/t1.reg.nii.gz'\n",
    "    t1c_path = patient + '/*/NIFTI_MNI/t1+c.reg.nii.gz'\n",
    "    t2_path = patient + '/*/NIFTI_MNI/t2.reg.nii.gz'\n",
    "    flair_path = patient + '/*/NIFTI_MNI/flair.reg.nii.gz'\n",
    "    pet_path = patient + '/*/NIFTI_MNI/PET.reg.nii.gz'\n",
    "\n",
    "    t1_path = insensitive_glob(t1_path)\n",
    "    t1c_path = insensitive_glob(t1c_path)\n",
    "    t2_path = insensitive_glob(t2_path)\n",
    "    flair_path = insensitive_glob(flair_path)\n",
    "    pet_path = insensitive_glob(pet_path)\n",
    "\n",
    "    if len(t1_path) == 0 or len(t1c_path) == 0 or len(t2_path) == 0 or len(flair_path) == 0 or len(pet_path) == 0:\n",
    "        continue\n",
    "    else:\n",
    "        data2_t1.append(t1_path[0])\n",
    "        data2_t1c.append(t1c_path[0])\n",
    "        data2_t2.append(t2_path[0])\n",
    "        data2_flair.append(flair_path[0])\n",
    "        data2_pet.append(pet_path[0])\n",
    "\n",
    "assert(len(data2_t1) == len(data2_t2))\n",
    "assert(len(data2_t2) == len(data2_t1c))\n",
    "assert(len(data2_flair) == len(data2_t2))\n",
    "assert(len(data2_pet) == len(data2_t2))\n",
    "\n",
    "print(len(data2_t1))"
   ]
  },
  {
   "cell_type": "markdown",
   "metadata": {},
   "source": [
    "# 3. Create Data Dictionaries"
   ]
  },
  {
   "cell_type": "code",
   "execution_count": 5,
   "metadata": {},
   "outputs": [
    {
     "ename": "NameError",
     "evalue": "name 'data2_t1' is not defined",
     "output_type": "error",
     "traceback": [
      "\u001b[0;31m---------------------------------------------------------------------------\u001b[0m",
      "\u001b[0;31mNameError\u001b[0m                                 Traceback (most recent call last)",
      "Cell \u001b[0;32mIn[5], line 2\u001b[0m\n\u001b[1;32m      1\u001b[0m dataset_1 \u001b[38;5;241m=\u001b[39m pd\u001b[38;5;241m.\u001b[39mDataFrame(np\u001b[38;5;241m.\u001b[39mcolumn_stack([data_t1, data_t1c, data_t2, data_flair, data_pet]), columns\u001b[38;5;241m=\u001b[39m[\u001b[38;5;124m'\u001b[39m\u001b[38;5;124mt1\u001b[39m\u001b[38;5;124m'\u001b[39m, \u001b[38;5;124m'\u001b[39m\u001b[38;5;124mt1c\u001b[39m\u001b[38;5;124m'\u001b[39m, \u001b[38;5;124m'\u001b[39m\u001b[38;5;124mt2\u001b[39m\u001b[38;5;124m'\u001b[39m, \u001b[38;5;124m'\u001b[39m\u001b[38;5;124mflair\u001b[39m\u001b[38;5;124m'\u001b[39m, \u001b[38;5;124m'\u001b[39m\u001b[38;5;124mpet\u001b[39m\u001b[38;5;124m'\u001b[39m])\n\u001b[0;32m----> 2\u001b[0m dataset_2 \u001b[38;5;241m=\u001b[39m pd\u001b[38;5;241m.\u001b[39mDataFrame(np\u001b[38;5;241m.\u001b[39mcolumn_stack([\u001b[43mdata2_t1\u001b[49m, data2_t1c, data2_t2, data2_flair, data2_pet]), columns\u001b[38;5;241m=\u001b[39m[\u001b[38;5;124m'\u001b[39m\u001b[38;5;124mt1\u001b[39m\u001b[38;5;124m'\u001b[39m, \u001b[38;5;124m'\u001b[39m\u001b[38;5;124mt1c\u001b[39m\u001b[38;5;124m'\u001b[39m, \u001b[38;5;124m'\u001b[39m\u001b[38;5;124mt2\u001b[39m\u001b[38;5;124m'\u001b[39m, \u001b[38;5;124m'\u001b[39m\u001b[38;5;124mflair\u001b[39m\u001b[38;5;124m'\u001b[39m, \u001b[38;5;124m'\u001b[39m\u001b[38;5;124mpet\u001b[39m\u001b[38;5;124m'\u001b[39m])\n\u001b[1;32m      4\u001b[0m dataset_all \u001b[38;5;241m=\u001b[39m result \u001b[38;5;241m=\u001b[39m pd\u001b[38;5;241m.\u001b[39mconcat([dataset_1, dataset_2])\n\u001b[1;32m      5\u001b[0m \u001b[38;5;28mprint\u001b[39m(\u001b[38;5;124m\"\u001b[39m\u001b[38;5;124mInitial list  size  All - \u001b[39m\u001b[38;5;124m\"\u001b[39m  \u001b[38;5;241m+\u001b[39m \u001b[38;5;28mstr\u001b[39m(dataset_all\u001b[38;5;241m.\u001b[39mshape))\n",
      "\u001b[0;31mNameError\u001b[0m: name 'data2_t1' is not defined"
     ]
    }
   ],
   "source": [
    "dataset_1 = pd.DataFrame(np.column_stack([data_t1, data_t1c, data_t2, data_flair, data_pet]), columns=['t1', 't1c', 't2', 'flair', 'pet'])\n",
    "dataset_2 = pd.DataFrame(np.column_stack([data2_t1, data2_t1c, data2_t2, data2_flair, data2_pet]), columns=['t1', 't1c', 't2', 'flair', 'pet'])\n",
    "\n",
    "dataset_all = result = pd.concat([dataset_1, dataset_2])\n",
    "print(\"Initial list  size  All - \"  + str(dataset_all.shape))\n",
    "dataset_all.head()\n",
    "dataset_all.to_csv('pathlist.csv')"
   ]
  },
  {
   "cell_type": "code",
   "execution_count": 6,
   "metadata": {},
   "outputs": [
    {
     "ename": "NameError",
     "evalue": "name 'dataset_all' is not defined",
     "output_type": "error",
     "traceback": [
      "\u001b[0;31m---------------------------------------------------------------------------\u001b[0m",
      "\u001b[0;31mNameError\u001b[0m                                 Traceback (most recent call last)",
      "Cell \u001b[0;32mIn[6], line 3\u001b[0m\n\u001b[1;32m      1\u001b[0m dictionary_train \u001b[38;5;241m=\u001b[39m [\n\u001b[1;32m      2\u001b[0m         {\u001b[38;5;124m\"\u001b[39m\u001b[38;5;124mt1\u001b[39m\u001b[38;5;124m\"\u001b[39m: a, \u001b[38;5;124m\"\u001b[39m\u001b[38;5;124mt1c\u001b[39m\u001b[38;5;124m\"\u001b[39m: b, \u001b[38;5;124m\"\u001b[39m\u001b[38;5;124mt2\u001b[39m\u001b[38;5;124m\"\u001b[39m: c, \u001b[38;5;124m\"\u001b[39m\u001b[38;5;124mflair\u001b[39m\u001b[38;5;124m\"\u001b[39m: d, \u001b[38;5;124m\"\u001b[39m\u001b[38;5;124mpet\u001b[39m\u001b[38;5;124m\"\u001b[39m: e}\n\u001b[0;32m----> 3\u001b[0m         \u001b[38;5;28;01mfor\u001b[39;00m a,b,c,d,e \u001b[38;5;129;01min\u001b[39;00m \u001b[38;5;28mzip\u001b[39m(\u001b[43mdataset_all\u001b[49m\u001b[38;5;241m.\u001b[39mt1, dataset_all\u001b[38;5;241m.\u001b[39mt1c, dataset_all\u001b[38;5;241m.\u001b[39mt2, dataset_all\u001b[38;5;241m.\u001b[39mflair, dataset_all\u001b[38;5;241m.\u001b[39mpet)\n\u001b[1;32m      4\u001b[0m ]\n",
      "\u001b[0;31mNameError\u001b[0m: name 'dataset_all' is not defined"
     ]
    }
   ],
   "source": [
    "dictionary_train = [\n",
    "        {\"t1\": a, \"t1c\": b, \"t2\": c, \"flair\": d, \"pet\": e}\n",
    "        for a,b,c,d,e in zip(dataset_all.t1, dataset_all.t1c, dataset_all.t2, dataset_all.flair, dataset_all.pet)\n",
    "]"
   ]
  },
  {
   "cell_type": "code",
   "execution_count": 7,
   "metadata": {},
   "outputs": [
    {
     "name": "stderr",
     "output_type": "stream",
     "text": [
      "UsageError: Unknown variable 'dictionary_train'\n"
     ]
    }
   ],
   "source": [
    "%store dictionary_train"
   ]
  },
  {
   "cell_type": "code",
   "execution_count": null,
   "metadata": {},
   "outputs": [],
   "source": []
  }
 ],
 "metadata": {
  "kernelspec": {
   "display_name": "Python 3 (ipykernel)",
   "language": "python",
   "name": "python3"
  },
  "language_info": {
   "codemirror_mode": {
    "name": "ipython",
    "version": 3
   },
   "file_extension": ".py",
   "mimetype": "text/x-python",
   "name": "python",
   "nbconvert_exporter": "python",
   "pygments_lexer": "ipython3",
   "version": "3.10.12"
  }
 },
 "nbformat": 4,
 "nbformat_minor": 4
}
